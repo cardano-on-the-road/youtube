{
 "cells": [
  {
   "cell_type": "code",
   "execution_count": null,
   "metadata": {},
   "outputs": [],
   "source": [
    "#Librerie da installare \n",
    "!pip install pandas\n",
    "!pip install matplotlib\n",
    "!pip install seaborn\n",
    "!pip install charset-normalizer\n",
    "!pip install FinQuant"
   ]
  },
  {
   "cell_type": "code",
   "execution_count": null,
   "metadata": {},
   "outputs": [],
   "source": [
    "import pandas as pd\n",
    "import datetime\n",
    "import seaborn as sns\n",
    "sns.set_theme()\n",
    "\n",
    "# importing FinQuant's function to automatically build the portfolio\n",
    "from finquant.portfolio import build_portfolio"
   ]
  },
  {
   "cell_type": "markdown",
   "metadata": {},
   "source": [
    "# Definizione portfolio\n",
    "\n",
    "la somma di tutte le Allocation deve corrispondere a 1 "
   ]
  },
  {
   "cell_type": "code",
   "execution_count": null,
   "metadata": {},
   "outputs": [],
   "source": [
    "data = {0: {'Name':'BABA', 'Allocation':0.04},\n",
    "        1: {'Name':'GOLD', 'Allocation':0.02},\n",
    "        2: {\"Name\": \"CANG\", \"Allocation\":0.04},\n",
    "        3: {\"Name\": \"CYBR\", \"Allocation\":0.03},\n",
    "        4: {\"Name\": \"FB\", \"Allocation\":0.04},\n",
    "        5: {\"Name\": \"VUZI\", \"Allocation\":0.03},\n",
    "        6: {\"Name\": \"BTC-USD\", \"Allocation\":0.5},\n",
    "        7: {\"Name\": \"ETH-USD\", \"Allocation\":0.22},\n",
    "        8: {\"Name\": \"AMZN\", \"Allocation\": 0.1}\n",
    "}"
   ]
  },
  {
   "cell_type": "code",
   "execution_count": null,
   "metadata": {},
   "outputs": [],
   "source": [
    "start_date = \"2016-01-01\"\n",
    "end_date = datetime.date.today()\n",
    "\n",
    "pf_allocation = pd.DataFrame.from_dict(data, orient=\"index\")\n",
    "names = pf_allocation[\"Name\"].values.tolist()\n",
    "names"
   ]
  },
  {
   "cell_type": "markdown",
   "metadata": {},
   "source": [
    "# Proprietà del portfoglio e sharpe ratio\n",
    "\n",
    "Lo sharpe ratio rappresenta la media del rapporto rendimento / volatilità di tutti gli asset che compongono il portfolio.\n",
    "\n",
    "Di conseguenza un portfolio dotato di uno sharpe ratio elevato indica una situazione in cui i potenziali ritorni superano i rischi legati alla volatilità. "
   ]
  },
  {
   "cell_type": "code",
   "execution_count": null,
   "metadata": {},
   "outputs": [],
   "source": [
    "#Inserire i valori del mio portfolio\n",
    "pf = build_portfolio(\n",
    "    names=names, pf_allocation=pf_allocation, start_date=start_date, end_date=end_date, data_api=\"yfinance\"\n",
    ")\n",
    "pf.properties()"
   ]
  },
  {
   "cell_type": "code",
   "execution_count": null,
   "metadata": {},
   "outputs": [],
   "source": [
    "# Monte Carlo optimisation\n",
    "\n",
    "pf.mc_optimisation(num_trials=10000)\n",
    "\n",
    "# minimisation to compute efficient frontier and optimal portfolios along it\n",
    "pf.ef_plot_efrontier()\n",
    "pf.ef.plot_optimal_portfolios()\n",
    "# plotting individual stocks\n",
    "pf.plot_stocks()\n",
    "pf.mc_plot_results()"
   ]
  },
  {
   "cell_type": "code",
   "execution_count": null,
   "metadata": {},
   "outputs": [],
   "source": [
    "from finquant.efficient_frontier import EfficientFrontier\n",
    "\n",
    "# creating an instance of EfficientFrontier\n",
    "ef = EfficientFrontier(pf.comp_mean_returns(freq=1), pf.comp_cov())\n",
    "# optimisation for minimum volatility\n",
    "print(ef.maximum_sharpe_ratio())"
   ]
  },
  {
   "cell_type": "markdown",
   "metadata": {},
   "source": [
    "## Proviamo a misurare nuovamente con le ripartizioni suggerite"
   ]
  },
  {
   "cell_type": "code",
   "execution_count": null,
   "metadata": {},
   "outputs": [],
   "source": [
    "data = {0: {'Name':'BABA', 'Allocation':0.08},\n",
    "        1: {'Name':'GOLD', 'Allocation':0.16},\n",
    "        2: {\"Name\": \"CANG\", \"Allocation\":0.05},\n",
    "        3: {\"Name\": \"CYBR\", \"Allocation\":0.09},\n",
    "        4: {\"Name\": \"FB\", \"Allocation\":0.000},\n",
    "        5: {\"Name\": \"VUZI\", \"Allocation\":0.014},\n",
    "        6: {\"Name\": \"BTC-USD\", \"Allocation\":0.12},\n",
    "        7: {\"Name\": \"ETH-USD\", \"Allocation\":0.15},\n",
    "        8: {\"Name\": \"AMZN\", \"Allocation\":0.31}\n",
    "}\n",
    "\n",
    "start_date = \"2016-01-01\"\n",
    "end_date = datetime.date.today()\n",
    "\n",
    "pf_allocation = pd.DataFrame.from_dict(data, orient=\"index\")\n",
    "names = pf_allocation[\"Name\"].values.tolist()\n",
    "\n",
    "pf = build_portfolio(\n",
    "    names=names, pf_allocation=pf_allocation, start_date=start_date, end_date=end_date, data_api=\"yfinance\"\n",
    ")\n",
    "pf.properties()"
   ]
  },
  {
   "cell_type": "code",
   "execution_count": null,
   "metadata": {},
   "outputs": [],
   "source": []
  }
 ],
 "metadata": {
  "kernelspec": {
   "display_name": "Python 3 (ipykernel)",
   "language": "python",
   "name": "python3"
  },
  "language_info": {
   "codemirror_mode": {
    "name": "ipython",
    "version": 3
   },
   "file_extension": ".py",
   "mimetype": "text/x-python",
   "name": "python",
   "nbconvert_exporter": "python",
   "pygments_lexer": "ipython3",
   "version": "3.8.2"
  }
 },
 "nbformat": 4,
 "nbformat_minor": 2
}
