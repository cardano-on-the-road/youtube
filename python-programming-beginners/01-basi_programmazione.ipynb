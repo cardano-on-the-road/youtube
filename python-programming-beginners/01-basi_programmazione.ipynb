{
 "cells": [
  {
   "cell_type": "markdown",
   "metadata": {},
   "source": [
    "# Le basi della programmazione Python\n",
    "\n",
    "Questo documento si propone di riassumere le basi della programmazione Python3 e permettervi di iniziare a muovere i primi passi con il codice in modo interattivo.\n",
    "\n",
    "Il documento verrà arricchito costantemente in base ai vostri feedback. Vi invito a partecipare e a richiedere approfondimenti.\n",
    "\n",
    "### Istruzioni per l'uso\n",
    "Per eseguire il codice posizionatevi in una cella dove è presente del codice Python e premere **SHIFT + INVIO** per eseguirla"
   ]
  },
  {
   "cell_type": "markdown",
   "metadata": {},
   "source": [
    "# 1. Assegnamento valore a una variabile\n",
    "\n",
    "Python è un linguaggio detto a [tipizzazione dinamica](https://it.wikipedia.org/wiki/Tipizzazione_dinamica). Questo significa che il tipo della variabile (integer, string, double, object) viene assegnato durante l'esecuzione del programma, a differenza di linguaggi compilati o semi-compilati come C, C# e Java."
   ]
  },
  {
   "cell_type": "code",
   "execution_count": null,
   "metadata": {},
   "outputs": [],
   "source": [
    "# Questo è un commento. Non viene considerato dall'interprete python\n",
    "\n",
    "variabile_booleana = True\n",
    "variabile_intera = 5\n",
    "variabile_decimale = 5.5\n",
    "variabile_stringa = \"Bitcoin\"\n",
    "variabile_lista = [1,2,3,4,5,7,8,9]\n",
    "lista_di_stringhe = ['btc','vs','fiat']\n",
    "\n",
    "# Il dizionario è un'associazione chiave-valore\n",
    "variabile_dizionario = {\"nome\": \"Valerio\", \"cognome\": \"Mellini\"} \n",
    "\n",
    "# Di seguito vengono stampati i valori delle variabili\n",
    "print(\"Il valore di variabile_numerica è\", variabile_intera)\n",
    "print(\"Il tipo di variabile_numerica è\", type(variabile_intera))\n",
    "print(\"\")\n",
    "\n",
    "print(\"Il valore di variabile_decimale è\", variabile_decimale)\n",
    "print(\"Il tipo di variabile_numerica è\", type(variabile_decimale))\n",
    "print(\"\")\n",
    "\n",
    "print(\"Il valore di variabile_oggetto è\", variabile_dizionario)\n",
    "print(\"Il tipo di variabile_oggetto è\", type(variabile_dizionario))\n",
    "print(\"Esempio di visita del dizionario. variabile_dizionario['nome']=\", variabile_dizionario['nome'])\n",
    "print(\"\")\n",
    "\n",
    "\n",
    "# Prova a assegnare altri valori alle variabili e a stamparli"
   ]
  },
  {
   "cell_type": "markdown",
   "metadata": {},
   "source": [
    "## 2. Le operazioni"
   ]
  },
  {
   "cell_type": "code",
   "execution_count": null,
   "metadata": {},
   "outputs": [],
   "source": [
    "primo_addendo = 1\n",
    "somma = primo_addendo + 2 + 3\n",
    "print(\"Il risultato della somma è\", somma)\n",
    "\n",
    "sottrazione = 4 - 2\n",
    "print(\"Il risultato della sottrazione è\", sottrazione)\n",
    "\n",
    "moltiplicazione = 3 * 3\n",
    "print(\"Il risultato della moltiplicazione è\", moltiplicazione)\n",
    "\n",
    "divisione_intera = 11 / 3\n",
    "print(\"Il risultato della divisione intera è\", divisione_intera)\n",
    "\n",
    "modulo = 11 % 3 # il modulo indica il resto di una divisione \n",
    "print(\"Il risultato del modulo è\", modulo)\n",
    "\n",
    "divisione = 9.5 / 4\n",
    "print(\"Il risultato della divisione è\", divisione)\n",
    "\n",
    "nome = \"Valerio\"\n",
    "concatenazione_stringhe = nome + \" Mellini\"\n",
    "print(\"Il risultato della concatenazione di stringhe è\", concatenazione_stringhe)\n",
    "\n",
    "lista_a = [1, 2, 3]\n",
    "concatenazione_liste = lista_a + [4, 5]\n",
    "print(\"Il risultato della concatenazione di liste è\", concatenazione_liste)\n",
    "\n",
    "# Se provi a sommare una variabile numerica con una stringa noterai che verrà segnalata un'operazione illegale,\n",
    "# si possono effettuare operazioni tra variabili che godono di una rappresentazione binaria coerente  "
   ]
  },
  {
   "cell_type": "markdown",
   "metadata": {},
   "source": [
    "# Indentazione\n",
    "\n",
    "Ogni volta che si crea un nuovo blocco di codice, che sia un costrutto condizionale, un ciclo o una funzione etc\n",
    "il codice deve essere intendetato.\n",
    "\n",
    "Per intendetazione si intendono :\"I caratteri di spaziatura (spazi e tab) all'inizio di una riga logica, vengono utilizzati per computare il livello di indentazione di questa riga; **in pratica determina il raggruppamento delle istruzioni.**\" Fonte [Python docs](https://docs.python.it/html/ref/indentation.html)\n",
    "\n",
    "Di seguito alcuni esempi di indentazione. Da notare ogni volta che codice rienta dopo i **':'**:\n",
    "```python\n",
    "# Primo esempio\n",
    "if a!=b:\n",
    "    print('A è diverso da B')\n",
    " \n",
    "# Secondo esempio  \n",
    "for item in lista:\n",
    "    if item % 2 == 0:\n",
    "        print(\" > il numero è pari. Salto all'elemento successivo con l'istruzione continue\")\n",
    "        continue\n",
    "    print(item)\n",
    "```\n"
   ]
  },
  {
   "cell_type": "markdown",
   "metadata": {},
   "source": [
    "# 3. Le condizioni\n",
    "\n",
    "\"La struttura condizionale è, all'interno di un algoritmo risolutivo di un problema dato, una struttura di controllo del flusso di esecuzione di un programma che indica all'elaboratore, in base alla verifica di una condizione logica specificata, quale fra due sequenze o blocchi di istruzioni eseguire, realizzando dunque un controllo logico di elaborazione.\" Fonte [Wikipedia](https://it.wikipedia.org/wiki/Selezione_(informatica))"
   ]
  },
  {
   "cell_type": "code",
   "execution_count": null,
   "metadata": {},
   "outputs": [],
   "source": [
    "# Cambia i valori delle variabili per capire come variano i risultati delle condizioni\n",
    "a = 10\n",
    "b = 10\n",
    "\n",
    "print('Risultati operatori condizionali tra A=',a,'e B=',b)\n",
    "print(\"A strettamente maggiore di B=\", a>b)\n",
    "print(\"A strettamente minore di B=\", a<b)\n",
    "print(\"A maggiore o uguale di B=\", a>=b)\n",
    "print(\"A diverso da B=\", a!=b)\n",
    "print(\"A è uguale a B=\", a==b)\n",
    "print(\"A e B sono entrambi pari=\", a%2==0 and b%2==0)\n",
    "print(\"Un valore tra A e B è dispari=\",a%2!=0 or b%2!=0)\n",
    "print(\"*---------*\\n\\n\")\n",
    " \n",
    "print('Esempio di struttura condizionale semplice con solo IF')\n",
    "if a!=b:\n",
    "    print('A è diverso da B')\n",
    "print(\"*---------*\\n\")\n",
    "\n",
    "print('Esempio di struttura condizionale con IF-ELSE')\n",
    "if a!=b:\n",
    "    print('A è diverso da B')\n",
    "else:\n",
    "    print(\"A è uguale a B\")\n",
    "print(\"*---------*\\n\")\n",
    "\n",
    "print('La struttura condizionale con IF-ELIF-ELSE') \n",
    "if a > b:\n",
    "    print(\"A è maggiore di B\")\n",
    "elif a == b:\n",
    "    print(\"A è uguale a B\")\n",
    "else:\n",
    "    print(\"B è minore di A\")\n",
    "print(\"*---------*\\n\")\n"
   ]
  },
  {
   "cell_type": "markdown",
   "metadata": {},
   "source": [
    "# 4. I cicli\n",
    "\n",
    "I cicli sono dei blocchi di codice utili per visitare liste di elementi, oppure più in generale, per ripetere la stessa istruzione fino al verificarsi di una particolare condizione."
   ]
  },
  {
   "cell_type": "code",
   "execution_count": null,
   "metadata": {},
   "outputs": [],
   "source": [
    "lista = [1, 2, 3, 4, 5, 6, 7, 8, 9, 10]\n",
    "\n",
    "print('Ciclo WHILE semplice')\n",
    "i=0\n",
    "# Viene ripetuta la stessa istruzione fino a quando l'istruzione è vera\n",
    "while i <= 10:\n",
    "    print(i)\n",
    "    i = i + 1\n",
    "print('-------------\\n')\n",
    "\n",
    "print('Ciclo FOR semplice')\n",
    "# Viene eseguita la stessa operazione \n",
    "for item in lista:\n",
    "    print(item)\n",
    "print('-------------\\n')\n",
    "\n",
    "print('Stampo solo i numeri dispari')\n",
    "for item in lista:\n",
    "    if item % 2 == 0:\n",
    "        print(\" > il numero è pari. Salto all'elemento successivo con l'istruzione continue\")\n",
    "        continue\n",
    "    print(item)\n",
    "print('-------------\\n')\n",
    "\n",
    "print('BREAK LOOP')\n",
    "for item in lista:\n",
    "    if(item == 4):\n",
    "        print(' > I break the loop on the number 4')\n",
    "        break\n",
    "    print(item)\n",
    "print('-------------\\n')\n",
    "\n",
    "print(\"Altra metodologia (compatta) per visitare una lista di valori e stampare i numeri pari\")\n",
    "lista = [i for i in lista if i%2==0]\n",
    "print(lista)"
   ]
  },
  {
   "cell_type": "markdown",
   "metadata": {},
   "source": [
    "# 5. Le funzioni\n",
    "\n",
    "\"Una funzione (detta anche routine, subroutine, procedura, sottoprogramma o metodo), in informatica e nell'ambito della programmazione, è un particolare costrutto sintattico di un determinato linguaggio di programmazione che permette di raggruppare, all'interno di un programma, una sequenza di istruzioni in un unico blocco, espletando così una specifica (e in generale più complessa) operazione, azione (o elaborazione) sui dati del programma stesso in modo tale che, a partire da determinati input, restituisca determinati output.\" fonte [Wikipedia](https://it.wikipedia.org/wiki/Funzione_(informatica))\n",
    "\n",
    "## Punti di attenzione:\n",
    "\n",
    "### Definire una funzione\n",
    "Una funzione si richiama attraverso la parola chiave **def**, segue il **nome** della funzione, successivamente tra **parentesi vengono inseriti i parametri della funzione da passare come input**\n",
    "\n",
    "### Istruzione return\n",
    "l'istruzione return serve per restituire un risultato al chiamante della funzione. Una funzione può non contenere alcuna istruzione di ritorno\n",
    "\n",
    "### Variabili\n",
    "All'interno di una funzione è possibile definire delle variabili interne.\n",
    "Le variabili esterne vengono distrutte quando il compito della funzione è terminato. Pertanto non sono visibili all'esterno del corpo della funziona stessa."
   ]
  },
  {
   "cell_type": "code",
   "execution_count": null,
   "metadata": {},
   "outputs": [],
   "source": [
    "# Lo scopo di questa funziona consiste nel riceve due numeri e restituire il maggiore tra i due\n",
    "# Esempio di definizione funzione. Da notare che è possibile assegnare un valore di default\n",
    "def max_integer(a, b=10):\n",
    "    print(\"Esecuzione funzione in corso...\")\n",
    "    print(\"A corrisponde a\", a, \"B corrisponse a\",b)\n",
    "    if a>=b:\n",
    "        print(\"A è maggiore o uguale a B\")\n",
    "        return a\n",
    "    else:\n",
    "        print(\"B è maggiore di A\")\n",
    "        return b\n",
    "\n",
    "#La funzione conta gli elementi di una lista o il numero caratteri di una stringa\n",
    "def conta_elementi(lista):\n",
    "    # Definizione variabile interna.\n",
    "    i=0\n",
    "    for el in lista:\n",
    "        i=i+1\n",
    "    return i\n",
    "    \n",
    "# invocazioni della funzione\n",
    "print(\"\")\n",
    "prima_esecuzione = max_integer(5, 7)\n",
    "print(\"\")\n",
    "# In questo caso avendo definito un valore di default posso chiamare la funzione con un solo argomento in input\n",
    "seconda_esecuzione = max_integer(a=15)\n",
    "print(\"\")\n",
    "\n",
    "\n",
    "print(\"Risultato prima esecuzione max_integer->\", prima_esecuzione)\n",
    "print(\"Risultato seconda esecuzione max_integer->\", seconda_esecuzione)\n",
    "print('\\n----------\\n')\n",
    "print(\"Risultato esecuzione conta_elementi->\", conta_elementi(\"Ethereum\"))\n",
    "print(\"Risultato esecuzione conta_elementi->\", conta_elementi([1,23,30,40]))"
   ]
  },
  {
   "cell_type": "markdown",
   "metadata": {},
   "source": [
    "# 6. Le classi\n",
    "\n",
    "\"Una classe, nella programmazione orientata agli oggetti, è un costrutto di un linguaggio di programmazione usato come modello per creare oggetti. Il modello comprende attributi e metodi che saranno condivisi da tutti gli oggetti creati (istanze) a partire dalla classe. Un \"oggetto\" è, di fatto, l'istanza di una classe.\n",
    "\n",
    "Una classe è identificabile come un tipo di dato astratto che può rappresentare una persona, un luogo, oppure una cosa, ed è quindi l'astrazione di un concetto, implementata in un software. Fondamentalmente, essa definisce al proprio interno lo stato, i cui dati sono memorizzati nelle cosiddette variabili membro o attributi, e il comportamento dell'entità di cui è rappresentazione, descritto da blocchi di codice riutilizzabili chiamati metodi.\" Fonte [Wikipedia](https://it.wikipedia.org/wiki/Classe_(informatica))\n",
    "\n",
    "#### Parametro self\n",
    "Il parametro self è una variabile che indica l’istanza corrente della classe, ed è presente i tutti i linguaggi orientati agli oggetti e serve a raggiungere i componenti dell’oggetto. Fonte [Wikipedia](https://wiki.pnlug.it/index.php?title=Parametro_self_in_python)"
   ]
  },
  {
   "cell_type": "code",
   "execution_count": null,
   "metadata": {},
   "outputs": [],
   "source": [
    "class persona:\n",
    "    \n",
    "    def __init__(self, nome, cognome, CF = ''):\n",
    "        print(\">>> Sto istanziando l'oggetto persona\")\n",
    "        self.nome=nome\n",
    "        self.cognome=cognome\n",
    "        self.cf = CF\n",
    "        print(\">>> Oggetto persona creato\")\n",
    "        \n",
    "    def saluta(self):\n",
    "        return \"Ciao! Mi chiamo \" + self.nome + \" \" + self.cognome + \". Piacere di conoscerti!\" + self.cf \n",
    "    \n",
    "\n",
    "oggetto_persona = persona(\"Mario\", \"Rossi\", \"asefsfd\")\n",
    "\n",
    "print(oggetto_persona.saluta())"
   ]
  },
  {
   "cell_type": "markdown",
   "metadata": {},
   "source": [
    "# 7. Importare altre librerie\n",
    "\n",
    "Le librerie sono componenti software sviluppate da parti terze.\n",
    "L'accesso alle librerie ci consente di usufruire di funzionalità, anche avanzate, senza dover scrivere da zero il codice.\n",
    "\n",
    "Nell'esempio sottostante importiamo la libreria datetime per stampare la data e l'ora.\n",
    "\n",
    "**In tutti i tutorial che vi presenterò si farà largo uso di librerie**\n",
    "\n",
    "E' possibile installare librerie di terze parti facendo uso del package manager di python **pip**\n",
    "Un esempio:\n",
    "\n",
    "```\n",
    "pip install numpy\n",
    "```"
   ]
  },
  {
   "cell_type": "code",
   "execution_count": null,
   "metadata": {},
   "outputs": [],
   "source": [
    "import datetime\n",
    "\n",
    "print(datetime.datetime.today())"
   ]
  },
  {
   "cell_type": "markdown",
   "metadata": {},
   "source": [
    "# 8. Creare le proprie librerie \n",
    "\n",
    "Il file che rappresenta la libreria custom si chiama **\"libreria_personale.py\"** (vd il file)\n",
    "\n",
    "Nel file della è stata definita una classe quadrato, che permette di calcolare area e perimetro."
   ]
  },
  {
   "cell_type": "code",
   "execution_count": null,
   "metadata": {},
   "outputs": [],
   "source": [
    "from libreria_personale import quadrato\n",
    "\n",
    "new_quadrato = quadrato(6)\n",
    "print('Perimetro', new_quadrato.perimetro())\n",
    "print('Area', new_quadrato.area())"
   ]
  },
  {
   "cell_type": "markdown",
   "metadata": {},
   "source": [
    "Tra le librerie più importanti di Python, che verranno trattate nei tutorial successivi consiglio di iniziare a documentarsi su:\n",
    "\n",
    "* **[Pandas](https://pandas.pydata.org/)** offre strutture dati e operazioni per manipolare tabelle numeriche e serie temporali.\n",
    "* **[Numpy](https://numpy.org/)** aggiunge supporto a grandi matrici e array multidimensionali insieme a una vasta collezione di funzioni matematiche di alto livello per poter operare efficientemente su queste strutture dati\n",
    "* **[Matplotlib](https://matplotlib.org/)** è una libreria per la creazione di grafici per il linguaggio di programmazione Python"
   ]
  }
 ],
 "metadata": {
  "kernelspec": {
   "display_name": "Python 3",
   "language": "python",
   "name": "python3"
  },
  "language_info": {
   "codemirror_mode": {
    "name": "ipython",
    "version": 3
   },
   "file_extension": ".py",
   "mimetype": "text/x-python",
   "name": "python",
   "nbconvert_exporter": "python",
   "pygments_lexer": "ipython3",
   "version": "3.7.7"
  }
 },
 "nbformat": 4,
 "nbformat_minor": 2
}
