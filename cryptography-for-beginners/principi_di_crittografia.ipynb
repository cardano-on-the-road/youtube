{
 "cells": [
  {
   "cell_type": "markdown",
   "metadata": {},
   "source": [
    "# 1. Principi di crittografia\n",
    "\n",
    "La crittografia è fondata sulla giusta alternanza di operazioni semplici e complesse. Ricordiamo che un algoritmo efficiente permette di effettuare dei calcoli impossibili da fare rispetto a un algoritmo non efficiente. \n",
    "\n",
    "1. Cifrare e decifrare un messaggio date le chiavi crittografiche deve essere **un'operazione semplice**\n",
    "2. Decifrare un messaggio senza la chiave crittografica deve essere **un'operazione complessa**. Per operazione complessa si intende un'operazione che può impiegare centinaia di migliaia di anni per essere completata\n",
    "\n",
    "Gli algoritmi di crittografia sono basati sulla matematica discreta ovvero la matematica basata sullo studio dei numeri interi, delle classi di resto e dei numeri primi. [Wikipedia](https://it.wikipedia.org/wiki/Matematica_discreta)\n",
    "\n",
    "Ricordiamo che un **numero primo è un numero intero divisibile solo per uno o per se stesso**"
   ]
  },
  {
   "cell_type": "markdown",
   "metadata": {},
   "source": [
    "## 2. Un esempio intuitivo\n",
    "\n",
    "Prendiamo due coppie numeri primi abbastanza grandi.\n",
    "\n",
    "* Noteremo che il tempo per eseguire la moltiplicazione resta contenuto al crescere della dimensione dei due numeri primi. Anche per numeri primi grandissimi\n",
    "* Al contrario, risalire ai numeri primi originari diventerà sempre più complesso al crescere della dimensione del prodotto. Il processo di risalire ai numeri primi di partenza è detto **fattorizzazione**"
   ]
  },
  {
   "cell_type": "code",
   "execution_count": null,
   "metadata": {},
   "outputs": [],
   "source": [
    "import random\n",
    "import time\n",
    "\n",
    "# Il metodo serve a determinare se un numero è primo\n",
    "def primo(n):\n",
    "    lista=[i for i in range(2,int(n/2)+1) if (n%i==0)]\n",
    "    return len(lista)==0\n",
    "\n",
    "# Il metodo restituisce la lista di tutti i divisori di un numero\n",
    "def fattorizzazione(num):\n",
    "    return [i for i in range(2, num) if num%i==0]\n",
    "\n",
    "def cronometro_moltiplicazione_fattorizzazione(n_primo_a, n_primo_b):\n",
    "    print(\"I numeri primi in input sono \", n_primo_a, n_primo_b)\n",
    "    \n",
    "    start_mol = time.time()\n",
    "    prodotto = n_primo_a * n_primo_b\n",
    "    end_mol = time.time()\n",
    "    print(\"Il risultato del prodotto corrisponde a \", prodotto)\n",
    "    print(\"   --> Il prodotto è stato eseguito in: {0:.3} secondi\".format(end_mol - start_mol))\n",
    "    \n",
    "    start_fattor = time.time()\n",
    "    fattor = fattorizzazione(prodotto)\n",
    "    end_fattor = time.time()\n",
    "    print(\"Il risultato della fattorizzazione corrisponde a \", fattor)\n",
    "    print(\"   --> La fattorizzazione è stata eseguita in: {0:.3} secondi\".format(end_fattor - start_fattor))\n",
    "    \n",
    "    print(\"\\n--------------------\\n\")\n",
    "    \n",
    "\n",
    "# Generatori di numeri primi\n",
    "lista_primi_1 = [i for i in range(5000, 6000) if primo(i)]\n",
    "lista_primi_2 = [i for i in range (15000, 20000) if primo(i)]\n",
    "\n",
    "# Ricavo due coppie di numeri primi casuali estratti dalle liste precedenti.\n",
    "# Questo processo mi serve per estrarli automaticamente\n",
    "prima_coppia = (random.choice(lista_primi_1), random.choice(lista_primi_1))\n",
    "seconda_coppia = (random.choice(lista_primi_2), random.choice(lista_primi_2))\n",
    "\n",
    "# Ora osservo come variano le performance di moltiplicazione e fattorizzazione \n",
    "cronometro_moltiplicazione_fattorizzazione(prima_coppia[0], prima_coppia[1])\n",
    "cronometro_moltiplicazione_fattorizzazione(seconda_coppia[0], seconda_coppia[1])"
   ]
  },
  {
   "cell_type": "markdown",
   "metadata": {},
   "source": [
    "## 3. Raccolta funzioni"
   ]
  },
  {
   "cell_type": "code",
   "execution_count": null,
   "metadata": {},
   "outputs": [],
   "source": [
    "def euclide(a,b): #Calcola MCD in modo efficiente\n",
    "        if b==0:\n",
    "                return a\n",
    "        return euclide(b,a%b)\n",
    "\n",
    "def phi(n):\n",
    "        l=[i for i in range (1,n) if euclide(i,n)==1]\n",
    "        return len(l)\n",
    "\n",
    "def primo(n):\n",
    "    lista=[i for i in range(2,int(n/2)+1) if (n%i==0)]\n",
    "    return len(lista)==0\n",
    "\n",
    "def ordine(a,n):\n",
    "    #Questa funzione stampa l'ordine k di una congruenza [a]n tale che ([a]n)^k = [1]n\n",
    "    if euclide(a,n)==1:\n",
    "        for i in range(1,n):\n",
    "            if pow(a,i,n)==1:  #([a]n)^i e' il significato della funzione pow\n",
    "                return i\n",
    "                                \n",
    "def inverso(a,n): #calcolo l'inverso moltiplicativo\n",
    "        tmp=ordine(a,n)\n",
    "        if (tmp!=None):\n",
    "                return pow(a,tmp-1,n)\n",
    "\n",
    "\n",
    "def congruenze(x,a,y,b):\n",
    "        if(x<0):\n",
    "                while(x<0):\n",
    "                        x=x+a\n",
    "        if(y<0):\n",
    "                while(y<0):\n",
    "                        y=y+b\n",
    "        \n",
    "        if((x-y)%euclide(a,b))!=0:\n",
    "                return[]\n",
    "\n",
    "        l=[i for i in range(0,mcm(a,b)) if(i%a==x) and (i%b==y)]\n",
    "        return [l[0],mcm(a,b)]"
   ]
  },
  {
   "cell_type": "markdown",
   "metadata": {},
   "source": [
    "## 4. Crittografia a chiave simmetrica\n",
    "\n",
    "Nella crittografia a chiave simmetrica la stessa chiave viene utilizzata per cifrare e decifrare il messaggio.\n",
    "Rappresenta un metodo semplice per cifrare testo in chiaro dove la chiave di crittazione è la stessa chiave di decrittazione, rendendo l'algoritmo molto performante e semplice da implementare. Fonte [Wikipedia](https://it.wikipedia.org/wiki/Crittografia_simmetrica)\n",
    "\n",
    "Nell'esempio sottostante riporto la formula utilizzare per cifrare il messaggio:\n",
    "**int * (a mod n) = encrypted**\n",
    "\n",
    "E per decifrarlo:\n",
    "**encrypted * (a mod n)-1 = int**\n",
    "\n",
    "Python mette a disposizione la funzioner **ord()** per convertire un carattere in intero\n",
    "e la funzione **chr()** per convertire un intero in carattere"
   ]
  },
  {
   "cell_type": "code",
   "execution_count": null,
   "metadata": {},
   "outputs": [],
   "source": [
    "def cifrare(input, a, n):\n",
    "    return input * a % n\n",
    "\n",
    "def decifrare(input, a, n):\n",
    "    inv = inverso(a,n)\n",
    "    return input * inv %n\n",
    "\n",
    "# La chiave simmetrica è composta da una coppia di numeri primi\n",
    "primi = [i for i in range(100, 1000) if primo(i)]\n",
    "chiave_simmetrica = (primi[0], primi[100])\n",
    "\n",
    "messaggio = \"Messaggio segreto da condividere\"\n",
    "messaggio_codificato = [ord(i) for i in messaggio]\n",
    "messaggio_cifrato = [cifrare(i, chiave_simmetrica[0], chiave_simmetrica[1]) for i in messaggio_codificato]\n",
    "messaggio_decrifrato = [chr(decifrare(i, chiave_simmetrica[0], chiave_simmetrica[1])) for i in messaggio_cifrato]\n",
    "\n",
    "print(\"Chiave simmetrica:\", chiave_simmetrica,\"\\n\")\n",
    "print(messaggio_segreto,\"\\n\")\n",
    "print(messaggio_decodificato,\"\\n\")\n",
    "print(messaggio_cifrato,\"\\n\")\n",
    "print(messaggio_decrifrato)"
   ]
  },
  {
   "cell_type": "markdown",
   "metadata": {},
   "source": [
    "## 5. Crittografia a chiave pubblica e privata (RSA)\n",
    "\n",
    "La crittografia asimmetrica, conosciuta anche come crittografia a coppia di chiavi, crittografia a chiave pubblica/privata o anche solo crittografia a chiave pubblica, è un tipo di crittografia dove, come si deduce dal nome, ad ogni attore coinvolto nella comunicazione è associata una coppia di chiavi:\n",
    "\n",
    "La chiave pubblica, che deve essere distribuita;\n",
    "La chiave privata, appunto personale e segreta;\n",
    "evitando così qualunque problema connesso alla necessità di uno scambio in modo sicuro dell'unica chiave utile alla cifratura/decifratura presente invece nella crittografia simmetrica. Il meccanismo si basa sul fatto che, se con una delle due chiavi si cifra (o codifica) un messaggio, allora quest'ultimo sarà decifrato solo con l'altra. Fonte [Wikipedia](https://it.wikipedia.org/wiki/Crittografia_asimmetrica)"
   ]
  },
  {
   "cell_type": "code",
   "execution_count": null,
   "metadata": {},
   "outputs": [],
   "source": [
    "import random\n",
    "\n",
    "# 1. Scelgo due numeri primi\n",
    "primi = [i for i in range(100, 1000) if primo(i)]\n",
    "p = random.choice(primi)\n",
    "q = random.choice(primi)\n",
    "\n",
    "# 2. Calcolo n e phi\n",
    "n = p * q\n",
    "phi=(p-1)*(q-1)\n",
    "\n",
    "# 3. Scelgo un numero 1 < e < phi\n",
    "while True:\n",
    "    e = random.randint(2, phi)\n",
    "    if primo(e):\n",
    "        break  \n",
    "\n",
    "# 4. Chiave Pubblica\n",
    "public_key = (e, n)\n",
    "\n",
    "# 5. Chiave privata\n",
    "d = inverso(e, phi)\n",
    "private_key = (d, n)\n",
    "\n",
    "print(\"I numeri primi scelti sono:\", p, q)\n",
    "print(\"n e phi corrispondono rispettivamente a:\",n ,phi)\n",
    "print(\"La chiave pubblica da distribuire corrisponde a:\", public_key)\n",
    "print(\"La chiave privata da conservare\", private_key)"
   ]
  },
  {
   "cell_type": "code",
   "execution_count": null,
   "metadata": {},
   "outputs": [],
   "source": [
    "def cifrare_chiave_pubblica(input, public_key):\n",
    "    return pow(input, public_key[0], public_key[1])\n",
    "\n",
    "def decifrare_chiave_privata(input, private_key):\n",
    "    return pow(input, private_key[0], private_key[1])\n",
    "\n",
    "messaggio = \"Messaggio segreto da cifrare!\"\n",
    "messaggio_codificato = [ord(i) for i in messaggio]\n",
    "messaggio_cifrato = [cifrare_chiave_pubblica(i, public_key) for i in messaggio_codificato]\n",
    "messaggio_decifrato = [chr(decifrare_chiave_privata(i, private_key)) for i in messaggio_cifrato]\n",
    "\n",
    "print(messaggio, \"\\n\")\n",
    "print(messaggio_cifrato, \"\\n\")\n",
    "print(messaggio_decifrato, \"\\n\")"
   ]
  },
  {
   "cell_type": "markdown",
   "metadata": {},
   "source": [
    "## Un esempio reale\n",
    "\n",
    "Utilizzo di chiave pubblica / chiave privata e chiave simmetrica di sessione\n",
    "\n",
    "pip install PyCryptodome"
   ]
  },
  {
   "cell_type": "markdown",
   "metadata": {},
   "source": [
    "### Generazione di chiave privata e chiave pubblica\n",
    "La chiave pubblica viene distribuita"
   ]
  },
  {
   "cell_type": "code",
   "execution_count": null,
   "metadata": {},
   "outputs": [],
   "source": [
    "from Crypto.PublicKey import RSA\n",
    "\n",
    "key = RSA.generate(2048)\n",
    "private_key = key.export_key()\n",
    "file_out = open(\"private.pem\", \"wb\")\n",
    "file_out.write(private_key)\n",
    "file_out.close()\n",
    "\n",
    "public_key = key.publickey().export_key()\n",
    "file_out = open(\"receiver.pem\", \"wb\")\n",
    "file_out.write(public_key)\n",
    "file_out.close()"
   ]
  },
  {
   "cell_type": "markdown",
   "metadata": {},
   "source": [
    "#### Processo lato mittente\n",
    "Il mittente cifra il messaggio con la sua chiave simmetrica e cifra la chiave simmetrica con la sua chiave pubblica "
   ]
  },
  {
   "cell_type": "code",
   "execution_count": null,
   "metadata": {},
   "outputs": [],
   "source": [
    "from Crypto.PublicKey import RSA\n",
    "from Crypto.Random import get_random_bytes\n",
    "from Crypto.Cipher import AES, PKCS1_OAEP\n",
    "\n",
    "data = \"I met aliens in UFO. Here is the map.\".encode(\"utf-8\")\n",
    "file_out = open(\"encrypted_data.bin\", \"wb\")\n",
    "\n",
    "recipient_key = RSA.import_key(open(\"receiver.pem\").read())\n",
    "session_key = get_random_bytes(16)\n",
    "\n",
    "# Encrypt the session key with the public RSA key\n",
    "cipher_rsa = PKCS1_OAEP.new(recipient_key)\n",
    "enc_session_key = cipher_rsa.encrypt(session_key)\n",
    "\n",
    "# Encrypt the data with the AES session key\n",
    "cipher_aes = AES.new(session_key, AES.MODE_EAX)\n",
    "ciphertext, tag = cipher_aes.encrypt_and_digest(data)\n",
    "\n",
    "[ file_out.write(x) for x in (enc_session_key, cipher_aes.nonce, tag, ciphertext) ]\n",
    "file_out.close()"
   ]
  },
  {
   "cell_type": "markdown",
   "metadata": {},
   "source": [
    "#### Processo lato destinatario\n",
    "Il destinatario legge il messaggio. Decripta la chiave simmetrica di sessione con la chiave privata. Decifra il messaggio con la chiave pubblica di sessione "
   ]
  },
  {
   "cell_type": "code",
   "execution_count": null,
   "metadata": {},
   "outputs": [],
   "source": [
    "from Crypto.PublicKey import RSA\n",
    "from Crypto.Cipher import AES, PKCS1_OAEP\n",
    "\n",
    "file_in = open(\"encrypted_data.bin\", \"rb\")\n",
    "\n",
    "private_key = RSA.import_key(open(\"private.pem\").read())\n",
    "\n",
    "enc_session_key, nonce, tag, ciphertext = [ file_in.read(x) for x in (private_key.size_in_bytes(), 16, 16, -1) ]\n",
    "\n",
    "# Decrypt the session key with the private RSA key\n",
    "cipher_rsa = PKCS1_OAEP.new(private_key)\n",
    "session_key = cipher_rsa.decrypt(enc_session_key)\n",
    "\n",
    "# Decrypt the data with the AES session key\n",
    "cipher_aes = AES.new(session_key, AES.MODE_EAX, nonce)\n",
    "data = cipher_aes.decrypt_and_verify(ciphertext, tag)\n",
    "print(data.decode(\"utf-8\"))"
   ]
  },
  {
   "cell_type": "code",
   "execution_count": null,
   "metadata": {},
   "outputs": [],
   "source": []
  }
 ],
 "metadata": {
  "kernelspec": {
   "display_name": "Python 3",
   "language": "python",
   "name": "python3"
  },
  "language_info": {
   "codemirror_mode": {
    "name": "ipython",
    "version": 3
   },
   "file_extension": ".py",
   "mimetype": "text/x-python",
   "name": "python",
   "nbconvert_exporter": "python",
   "pygments_lexer": "ipython3",
   "version": "3.7.7"
  }
 },
 "nbformat": 4,
 "nbformat_minor": 2
}
