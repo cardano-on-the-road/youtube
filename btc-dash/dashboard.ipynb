{
 "cells": [
  {
   "cell_type": "markdown",
   "id": "5a710ff4",
   "metadata": {},
   "source": [
    "## Installing libraries"
   ]
  },
  {
   "cell_type": "code",
   "execution_count": null,
   "id": "64085a2a",
   "metadata": {},
   "outputs": [],
   "source": [
    "!pip install mplfinance\n",
    "!pip install trendln --upgrade --no-cache-dir\n",
    "!pip install yfinance\n",
    "!pip install pandas\n",
    "!pip install numpy\n",
    "!pip install ta\n",
    "!pip install matplotlib\n",
    "!pip install seaborn\n",
    "!pip install googlenews"
   ]
  },
  {
   "cell_type": "markdown",
   "id": "c68a43c6",
   "metadata": {},
   "source": [
    "## Import libreries"
   ]
  },
  {
   "cell_type": "code",
   "execution_count": null,
   "id": "42e0f4fd",
   "metadata": {},
   "outputs": [],
   "source": [
    "import pandas as pd\n",
    "import numpy as np\n",
    "import seaborn as sns\n",
    "import yfinance as yf\n",
    "import datetime as dt\n",
    "import matplotlib.gridspec as gs\n",
    "import matplotlib.pyplot as plt\n",
    "from GoogleNews import GoogleNews\n",
    "sns.set()\n",
    "%matplotlib inline\n",
    "\n",
    "from taAnalysis import taAnalysis\n",
    "from performance import performance, corr\n",
    "from fearGreed import fearGreed\n",
    "from onChain import OnChain\n",
    "from draw import draw_vs_btc"
   ]
  },
  {
   "cell_type": "markdown",
   "id": "7e046f6f",
   "metadata": {},
   "source": [
    "## Setting parameters"
   ]
  },
  {
   "cell_type": "code",
   "execution_count": null,
   "id": "ec49d883",
   "metadata": {},
   "outputs": [],
   "source": [
    "asset = \"BTC-USD\"\n",
    "\n",
    "#keyword for news research\n",
    "keyword = \"bitcoin\"\n",
    "\n",
    "# Range used to download datas. \n",
    "start = dt.date(2016, 10, 1)\n",
    "\n",
    "# Range used to plot the chart. Support & resistance are identified by this range \n",
    "start_date_plot = dt.date(2020, 10, 1)\n",
    "\n",
    "end = dt.date.today()\n",
    "end_date_plot = dt.date.today()"
   ]
  },
  {
   "cell_type": "markdown",
   "id": "e6f39efb",
   "metadata": {},
   "source": [
    "## Technical analysis"
   ]
  },
  {
   "cell_type": "code",
   "execution_count": null,
   "id": "ee8451b5",
   "metadata": {},
   "outputs": [],
   "source": [
    "ta = taAnalysis(\"BTC-USD\", start_date = start, start_plot_date = start_date_plot)\n",
    "ta.download_data()\n",
    "ta.set_levels()\n",
    "btc_usd_df = ta.get_data()\n",
    "fig = ta.plot_all()\n",
    "fig.show()"
   ]
  },
  {
   "cell_type": "markdown",
   "id": "188a7373",
   "metadata": {},
   "source": [
    "## Btc perfomance & correlations"
   ]
  },
  {
   "cell_type": "code",
   "execution_count": null,
   "id": "3d866ac4",
   "metadata": {},
   "outputs": [],
   "source": [
    "ris = performance(btc_usd_df)\n",
    "ris.plot(kind='bar', \n",
    "         title='{0} current price compared to 356, 180, 90, 21, 7 days ago'.format(asset), \n",
    "         legend = False,\n",
    "         figsize=(16,5))"
   ]
  },
  {
   "cell_type": "code",
   "execution_count": null,
   "id": "d4e0bad3",
   "metadata": {},
   "outputs": [],
   "source": [
    "sp500 = yf.download('^GSPC', start=start, end=dt.date.today())\n",
    "ris = corr(btc_usd_df, sp500, [730, 356, 180, 90, 30])\n",
    "ax = ris.plot(kind='bar', \n",
    "         title='Correlation between {} S&P500'.format(asset), \n",
    "         figsize=(16,5),\n",
    "         ylim=([-1,1]),\n",
    "         legend=False)"
   ]
  },
  {
   "cell_type": "code",
   "execution_count": null,
   "id": "ab0b5767",
   "metadata": {},
   "outputs": [],
   "source": [
    "gold = yf.download('IAU', start=start, end=dt.date.today())\n",
    "ris = corr(btc_usd_df, gold, [730, 356, 180, 90, 30])\n",
    "print (ris)\n",
    "ris.plot(kind='bar', \n",
    "         title='Correlation between {} and Gold'.format(asset), \n",
    "         figsize=(16,5),\n",
    "         ylim=([-1,1]),\n",
    "         legend = False)"
   ]
  },
  {
   "cell_type": "markdown",
   "id": "76045910",
   "metadata": {},
   "source": [
    "# Fears & Greed"
   ]
  },
  {
   "cell_type": "code",
   "execution_count": null,
   "id": "2ff80629",
   "metadata": {},
   "outputs": [],
   "source": [
    "fng = fearGreed()\n",
    "fng.downloadData(limit=365)\n",
    "fng.plot_all(btc_usd_df)\n",
    "fng_data = fng.getData()\n",
    "\n",
    "print ('Fear & greed index TODAY {} value: {} - {}'.format(fng_data.index[0], \n",
    "                                                          fng_data.iloc[0]['value'],\n",
    "                                                          fng_data.iloc[0]['value_classification']))\n",
    "print ('Fear & greed index WEEK AGO {} value: {} - {}'.format(fng_data.index[7], \n",
    "                                                          fng_data.iloc[7]['value'],\n",
    "                                                          fng_data.iloc[7]['value_classification']))\n",
    "print ('Fear & greed index MONTH AGO {} value: {} - {}'.format(fng_data.index[31], \n",
    "                                                          fng_data.iloc[31]['value'],\n",
    "                                                          fng_data.iloc[31]['value_classification']))"
   ]
  },
  {
   "cell_type": "markdown",
   "id": "1bb2c287",
   "metadata": {},
   "source": [
    "#### BTC-USD vs CBOE Volatility Index"
   ]
  },
  {
   "cell_type": "code",
   "execution_count": null,
   "id": "d11ecd8f",
   "metadata": {},
   "outputs": [],
   "source": [
    "vix_df = yf.download('^VIX', start=start, end=dt.date.today())\n",
    "vix_df.rename(columns={'Open':'Value'}, inplace=True)    \n",
    "draw_vs_btc(btc_usd_df[['Close']], vix_df[['Value']], 'CBOE Volatility Index')   "
   ]
  },
  {
   "cell_type": "markdown",
   "id": "0b4ba432",
   "metadata": {},
   "source": [
    "# Analysis on chain \n",
    "To use these cells you'll need an API key from [Glassnode](https://glassnode.com/)"
   ]
  },
  {
   "cell_type": "code",
   "execution_count": null,
   "id": "c2e1b419",
   "metadata": {},
   "outputs": [],
   "source": [
    "skey = 'SECRET KEY HERE'\n",
    "\n",
    "onchain = OnChain(skey)\n",
    "onchain.download_datasets()"
   ]
  },
  {
   "cell_type": "markdown",
   "id": "d3a6dec8",
   "metadata": {},
   "source": [
    "#### Hashrate vs btc price"
   ]
  },
  {
   "cell_type": "code",
   "execution_count": null,
   "id": "757173fb",
   "metadata": {},
   "outputs": [],
   "source": [
    "onchain.plot_hashrate(btc_usd_df)"
   ]
  },
  {
   "cell_type": "markdown",
   "id": "58e1fc56",
   "metadata": {},
   "source": [
    "#### Exchanges distribution vs btc price"
   ]
  },
  {
   "cell_type": "code",
   "execution_count": null,
   "id": "248e86d5",
   "metadata": {},
   "outputs": [],
   "source": [
    "onchain.plot_exchange_distribution(btc_usd_df)"
   ]
  },
  {
   "cell_type": "markdown",
   "id": "41b695ae",
   "metadata": {},
   "source": [
    "# BTC news"
   ]
  },
  {
   "cell_type": "code",
   "execution_count": null,
   "id": "917bb193",
   "metadata": {},
   "outputs": [],
   "source": [
    "googlenews = GoogleNews()\n",
    "googlenews = GoogleNews(lang='en', region='US')\n",
    "googlenews = GoogleNews(period='7d')\n",
    "googlenews.search(keyword)\n",
    "googlenews.get_page(10)\n",
    "res = googlenews.results()\n",
    "count = 1\n",
    "for i in res:\n",
    "    print('****NEWS Nro {}****\\n'.format(count))\n",
    "    print('**** {0} ****\\n'.format(i['title']))\n",
    "    print('{0}\\n'.format(i['desc']))\n",
    "    print('{0}\\n'.format(i['link']))\n",
    "    print('{0}\\n'.format(i['date']))\n",
    "    print('------------------------------------------\\n\\n')\n",
    "    count = count + 1"
   ]
  }
 ],
 "metadata": {
  "kernelspec": {
   "display_name": "Python 3 (ipykernel)",
   "language": "python",
   "name": "python3"
  },
  "language_info": {
   "codemirror_mode": {
    "name": "ipython",
    "version": 3
   },
   "file_extension": ".py",
   "mimetype": "text/x-python",
   "name": "python",
   "nbconvert_exporter": "python",
   "pygments_lexer": "ipython3",
   "version": "3.8.2"
  }
 },
 "nbformat": 4,
 "nbformat_minor": 5
}
