{
 "cells": [
  {
   "cell_type": "markdown",
   "id": "001e084a",
   "metadata": {},
   "source": [
    "## Installing libraries"
   ]
  },
  {
   "cell_type": "code",
   "execution_count": 1,
   "id": "421c3984",
   "metadata": {},
   "outputs": [
    {
     "name": "stdout",
     "output_type": "stream",
     "text": [
      "Collecting mplfinance\n",
      "  Downloading mplfinance-0.12.8b9-py3-none-any.whl (70 kB)\n",
      "\u001b[2K     \u001b[38;2;114;156;31m━━━━━━━━━━━━━━━━━━━━━━━━━━━━━━━━━━━━━━━━\u001b[0m \u001b[32m70.4/70.4 KB\u001b[0m \u001b[31m1.3 MB/s\u001b[0m eta \u001b[36m0:00:00\u001b[0m[31m1.5 MB/s\u001b[0m eta \u001b[36m0:00:01\u001b[0m\n",
      "\u001b[?25hCollecting matplotlib\n",
      "  Using cached matplotlib-3.5.1-cp38-cp38-macosx_10_9_x86_64.whl (7.3 MB)\n",
      "Collecting pandas\n",
      "  Downloading pandas-1.4.1-cp38-cp38-macosx_10_9_x86_64.whl (11.4 MB)\n",
      "\u001b[2K     \u001b[38;2;114;156;31m━━━━━━━━━━━━━━━━━━━━━━━━━━━━━━━━━━━━━━━━\u001b[0m \u001b[32m11.4/11.4 MB\u001b[0m \u001b[31m24.6 MB/s\u001b[0m eta \u001b[36m0:00:00\u001b[0mm eta \u001b[36m0:00:01\u001b[0m0:01\u001b[0m01\u001b[0m\n",
      "\u001b[?25hCollecting pillow>=6.2.0\n",
      "  Downloading Pillow-9.0.1-cp38-cp38-macosx_10_10_x86_64.whl (3.0 MB)\n",
      "\u001b[2K     \u001b[38;2;114;156;31m━━━━━━━━━━━━━━━━━━━━━━━━━━━━━━━━━━━━━━━━\u001b[0m \u001b[32m3.0/3.0 MB\u001b[0m \u001b[31m28.3 MB/s\u001b[0m eta \u001b[36m0:00:00\u001b[0mm eta \u001b[36m0:00:01\u001b[0m[36m0:00:01\u001b[0m\n",
      "\u001b[?25hRequirement already satisfied: python-dateutil>=2.7 in /Users/valeriomellini/source-code/youtube/venv/lib/python3.8/site-packages (from matplotlib->mplfinance) (2.8.2)\n",
      "Collecting fonttools>=4.22.0\n",
      "  Downloading fonttools-4.31.2-py3-none-any.whl (899 kB)\n",
      "\u001b[2K     \u001b[38;2;114;156;31m━━━━━━━━━━━━━━━━━━━━━━━━━━━━━━━━━━━━━━\u001b[0m \u001b[32m899.5/899.5 KB\u001b[0m \u001b[31m20.1 MB/s\u001b[0m eta \u001b[36m0:00:00\u001b[0mm eta \u001b[36m0:00:01\u001b[0m\n",
      "\u001b[?25hCollecting cycler>=0.10\n",
      "  Using cached cycler-0.11.0-py3-none-any.whl (6.4 kB)\n",
      "Collecting kiwisolver>=1.0.1\n",
      "  Downloading kiwisolver-1.4.0-cp38-cp38-macosx_10_9_x86_64.whl (61 kB)\n",
      "\u001b[2K     \u001b[38;2;114;156;31m━━━━━━━━━━━━━━━━━━━━━━━━━━━━━━━━━━━━━━━━\u001b[0m \u001b[32m61.4/61.4 KB\u001b[0m \u001b[31m1.9 MB/s\u001b[0m eta \u001b[36m0:00:00\u001b[0m\n",
      "\u001b[?25hCollecting numpy>=1.17\n",
      "  Downloading numpy-1.22.3-cp38-cp38-macosx_10_14_x86_64.whl (17.6 MB)\n",
      "\u001b[2K     \u001b[38;2;114;156;31m━━━━━━━━━━━━━━━━━━━━━━━━━━━━━━━━━━━━━━━━\u001b[0m \u001b[32m17.6/17.6 MB\u001b[0m \u001b[31m24.5 MB/s\u001b[0m eta \u001b[36m0:00:00\u001b[0mm eta \u001b[36m0:00:01\u001b[0m[36m0:00:01\u001b[0m\n",
      "\u001b[?25hRequirement already satisfied: packaging>=20.0 in /Users/valeriomellini/source-code/youtube/venv/lib/python3.8/site-packages (from matplotlib->mplfinance) (21.3)\n",
      "Requirement already satisfied: pyparsing>=2.2.1 in /Users/valeriomellini/source-code/youtube/venv/lib/python3.8/site-packages (from matplotlib->mplfinance) (3.0.7)\n",
      "Requirement already satisfied: pytz>=2020.1 in /Users/valeriomellini/source-code/youtube/venv/lib/python3.8/site-packages (from pandas->mplfinance) (2022.1)\n",
      "Requirement already satisfied: six>=1.5 in /Users/valeriomellini/source-code/youtube/venv/lib/python3.8/site-packages (from python-dateutil>=2.7->matplotlib->mplfinance) (1.16.0)\n",
      "Installing collected packages: pillow, numpy, kiwisolver, fonttools, cycler, pandas, matplotlib, mplfinance\n",
      "Successfully installed cycler-0.11.0 fonttools-4.31.2 kiwisolver-1.4.0 matplotlib-3.5.1 mplfinance-0.12.8b9 numpy-1.22.3 pandas-1.4.1 pillow-9.0.1\n",
      "Collecting trendln\n",
      "  Downloading trendln-0.1.10.tar.gz (23 kB)\n",
      "  Preparing metadata (setup.py) ... \u001b[?25ldone\n",
      "\u001b[?25hRequirement already satisfied: numpy>=1.15 in /Users/valeriomellini/source-code/youtube/venv/lib/python3.8/site-packages (from trendln) (1.22.3)\n",
      "Collecting findiff>=0.7.0\n",
      "  Downloading findiff-0.8.9.tar.gz (26 kB)\n",
      "  Preparing metadata (setup.py) ... \u001b[?25ldone\n",
      "\u001b[?25hCollecting scikit-image>=0.14.0\n",
      "  Downloading scikit_image-0.19.2-cp38-cp38-macosx_10_13_x86_64.whl (13.1 MB)\n",
      "\u001b[2K     \u001b[38;2;114;156;31m━━━━━━━━━━━━━━━━━━━━━━━━━━━━━━━━━━━━━━━━\u001b[0m \u001b[32m13.1/13.1 MB\u001b[0m \u001b[31m37.5 MB/s\u001b[0m eta \u001b[36m0:00:00\u001b[0m31m35.5 MB/s\u001b[0m eta \u001b[36m0:00:01\u001b[0m\n",
      "\u001b[?25hRequirement already satisfied: pandas>=0.23.1 in /Users/valeriomellini/source-code/youtube/venv/lib/python3.8/site-packages (from trendln) (1.4.1)\n",
      "Requirement already satisfied: matplotlib>=2.2.4 in /Users/valeriomellini/source-code/youtube/venv/lib/python3.8/site-packages (from trendln) (3.5.1)\n",
      "Collecting scipy\n",
      "  Downloading scipy-1.8.0-cp38-cp38-macosx_12_0_universal2.macosx_10_9_x86_64.whl (55.3 MB)\n",
      "\u001b[2K     \u001b[38;2;114;156;31m━━━━━━━━━━━━━━━━━━━━━━━━━━━━━━━━━━━━━━━━\u001b[0m \u001b[32m55.3/55.3 MB\u001b[0m \u001b[31m36.2 MB/s\u001b[0m eta \u001b[36m0:00:00\u001b[0mm eta \u001b[36m0:00:01\u001b[0m[36m0:00:01\u001b[0m\n",
      "\u001b[?25hCollecting sympy\n",
      "  Downloading sympy-1.10.1-py3-none-any.whl (6.4 MB)\n",
      "\u001b[2K     \u001b[38;2;114;156;31m━━━━━━━━━━━━━━━━━━━━━━━━━━━━━━━━━━━━━━━━\u001b[0m \u001b[32m6.4/6.4 MB\u001b[0m \u001b[31m36.8 MB/s\u001b[0m eta \u001b[36m0:00:00\u001b[0m MB/s\u001b[0m eta \u001b[36m0:00:01\u001b[0m:01\u001b[0m\n",
      "\u001b[?25hRequirement already satisfied: packaging>=20.0 in /Users/valeriomellini/source-code/youtube/venv/lib/python3.8/site-packages (from matplotlib>=2.2.4->trendln) (21.3)\n",
      "Requirement already satisfied: pillow>=6.2.0 in /Users/valeriomellini/source-code/youtube/venv/lib/python3.8/site-packages (from matplotlib>=2.2.4->trendln) (9.0.1)\n",
      "Requirement already satisfied: kiwisolver>=1.0.1 in /Users/valeriomellini/source-code/youtube/venv/lib/python3.8/site-packages (from matplotlib>=2.2.4->trendln) (1.4.0)\n",
      "Requirement already satisfied: cycler>=0.10 in /Users/valeriomellini/source-code/youtube/venv/lib/python3.8/site-packages (from matplotlib>=2.2.4->trendln) (0.11.0)\n",
      "Requirement already satisfied: python-dateutil>=2.7 in /Users/valeriomellini/source-code/youtube/venv/lib/python3.8/site-packages (from matplotlib>=2.2.4->trendln) (2.8.2)\n",
      "Requirement already satisfied: fonttools>=4.22.0 in /Users/valeriomellini/source-code/youtube/venv/lib/python3.8/site-packages (from matplotlib>=2.2.4->trendln) (4.31.2)\n",
      "Requirement already satisfied: pyparsing>=2.2.1 in /Users/valeriomellini/source-code/youtube/venv/lib/python3.8/site-packages (from matplotlib>=2.2.4->trendln) (3.0.7)\n",
      "Requirement already satisfied: pytz>=2020.1 in /Users/valeriomellini/source-code/youtube/venv/lib/python3.8/site-packages (from pandas>=0.23.1->trendln) (2022.1)\n",
      "Collecting networkx>=2.2\n",
      "  Downloading networkx-2.7.1-py3-none-any.whl (2.0 MB)\n",
      "\u001b[2K     \u001b[38;2;114;156;31m━━━━━━━━━━━━━━━━━━━━━━━━━━━━━━━━━━━━━━━━\u001b[0m \u001b[32m2.0/2.0 MB\u001b[0m \u001b[31m37.9 MB/s\u001b[0m eta \u001b[36m0:00:00\u001b[0m MB/s\u001b[0m eta \u001b[36m0:00:01\u001b[0m\n",
      "\u001b[?25hCollecting tifffile>=2019.7.26\n",
      "  Downloading tifffile-2022.3.16-py3-none-any.whl (179 kB)\n",
      "\u001b[2K     \u001b[38;2;114;156;31m━━━━━━━━━━━━━━━━━━━━━━━━━━━━━━━━━━━━━━\u001b[0m \u001b[32m179.2/179.2 KB\u001b[0m \u001b[31m70.5 MB/s\u001b[0m eta \u001b[36m0:00:00\u001b[0m\n",
      "\u001b[?25hCollecting PyWavelets>=1.1.1\n",
      "  Downloading PyWavelets-1.3.0-cp38-cp38-macosx_10_13_x86_64.whl (4.3 MB)\n",
      "\u001b[2K     \u001b[38;2;114;156;31m━━━━━━━━━━━━━━━━━━━━━━━━━━━━━━━━━━━━━━━━\u001b[0m \u001b[32m4.3/4.3 MB\u001b[0m \u001b[31m37.3 MB/s\u001b[0m eta \u001b[36m0:00:00\u001b[0m31m37.4 MB/s\u001b[0m eta \u001b[36m0:00:01\u001b[0m\n",
      "\u001b[?25hCollecting imageio>=2.4.1\n",
      "  Downloading imageio-2.16.1-py3-none-any.whl (3.3 MB)\n",
      "\u001b[2K     \u001b[38;2;114;156;31m━━━━━━━━━━━━━━━━━━━━━━━━━━━━━━━━━━━━━━━━\u001b[0m \u001b[32m3.3/3.3 MB\u001b[0m \u001b[31m37.3 MB/s\u001b[0m eta \u001b[36m0:00:00\u001b[0m31m36.7 MB/s\u001b[0m eta \u001b[36m0:00:01\u001b[0m\n",
      "\u001b[?25hRequirement already satisfied: six>=1.5 in /Users/valeriomellini/source-code/youtube/venv/lib/python3.8/site-packages (from python-dateutil>=2.7->matplotlib>=2.2.4->trendln) (1.16.0)\n",
      "Collecting mpmath>=0.19\n",
      "  Downloading mpmath-1.2.1-py3-none-any.whl (532 kB)\n",
      "\u001b[2K     \u001b[38;2;114;156;31m━━━━━━━━━━━━━━━━━━━━━━━━━━━━━━━━━━━━━━\u001b[0m \u001b[32m532.6/532.6 KB\u001b[0m \u001b[31m28.7 MB/s\u001b[0m eta \u001b[36m0:00:00\u001b[0m\n",
      "\u001b[?25hUsing legacy 'setup.py install' for trendln, since package 'wheel' is not installed.\n",
      "Using legacy 'setup.py install' for findiff, since package 'wheel' is not installed.\n",
      "Installing collected packages: mpmath, tifffile, sympy, scipy, PyWavelets, networkx, imageio, scikit-image, findiff, trendln\n",
      "  Running setup.py install for findiff ... \u001b[?25ldone\n",
      "\u001b[?25h  Running setup.py install for trendln ... \u001b[?25ldone\n",
      "\u001b[?25hSuccessfully installed PyWavelets-1.3.0 findiff-0.8.9 imageio-2.16.1 mpmath-1.2.1 networkx-2.7.1 scikit-image-0.19.2 scipy-1.8.0 sympy-1.10.1 tifffile-2022.3.16 trendln-0.1.10\n",
      "Collecting yfinance\n",
      "  Downloading yfinance-0.1.70-py2.py3-none-any.whl (26 kB)\n",
      "Requirement already satisfied: numpy>=1.15 in /Users/valeriomellini/source-code/youtube/venv/lib/python3.8/site-packages (from yfinance) (1.22.3)\n",
      "Collecting multitasking>=0.0.7\n",
      "  Using cached multitasking-0.0.10.tar.gz (8.2 kB)\n",
      "  Preparing metadata (setup.py) ... \u001b[?25ldone\n",
      "\u001b[?25hCollecting lxml>=4.5.1\n",
      "  Downloading lxml-4.8.0-cp38-cp38-macosx_10_14_x86_64.whl (4.5 MB)\n"
     ]
    },
    {
     "name": "stdout",
     "output_type": "stream",
     "text": [
      "\u001b[2K     \u001b[38;2;114;156;31m━━━━━━━━━━━━━━━━━━━━━━━━━━━━━━━━━━━━━━━━\u001b[0m \u001b[32m4.5/4.5 MB\u001b[0m \u001b[31m15.9 MB/s\u001b[0m eta \u001b[36m0:00:00\u001b[0mm eta \u001b[36m0:00:01\u001b[0m[36m0:00:01\u001b[0m\n",
      "\u001b[?25hRequirement already satisfied: requests>=2.26 in /Users/valeriomellini/source-code/youtube/venv/lib/python3.8/site-packages (from yfinance) (2.27.1)\n",
      "Requirement already satisfied: pandas>=0.24.0 in /Users/valeriomellini/source-code/youtube/venv/lib/python3.8/site-packages (from yfinance) (1.4.1)\n",
      "Requirement already satisfied: python-dateutil>=2.8.1 in /Users/valeriomellini/source-code/youtube/venv/lib/python3.8/site-packages (from pandas>=0.24.0->yfinance) (2.8.2)\n",
      "Requirement already satisfied: pytz>=2020.1 in /Users/valeriomellini/source-code/youtube/venv/lib/python3.8/site-packages (from pandas>=0.24.0->yfinance) (2022.1)\n",
      "Requirement already satisfied: urllib3<1.27,>=1.21.1 in /Users/valeriomellini/source-code/youtube/venv/lib/python3.8/site-packages (from requests>=2.26->yfinance) (1.26.9)\n",
      "Requirement already satisfied: charset-normalizer~=2.0.0 in /Users/valeriomellini/source-code/youtube/venv/lib/python3.8/site-packages (from requests>=2.26->yfinance) (2.0.12)\n",
      "Requirement already satisfied: idna<4,>=2.5 in /Users/valeriomellini/source-code/youtube/venv/lib/python3.8/site-packages (from requests>=2.26->yfinance) (3.3)\n",
      "Requirement already satisfied: certifi>=2017.4.17 in /Users/valeriomellini/source-code/youtube/venv/lib/python3.8/site-packages (from requests>=2.26->yfinance) (2021.10.8)\n",
      "Requirement already satisfied: six>=1.5 in /Users/valeriomellini/source-code/youtube/venv/lib/python3.8/site-packages (from python-dateutil>=2.8.1->pandas>=0.24.0->yfinance) (1.16.0)\n",
      "Using legacy 'setup.py install' for multitasking, since package 'wheel' is not installed.\n",
      "Installing collected packages: multitasking, lxml, yfinance\n",
      "  Running setup.py install for multitasking ... \u001b[?25ldone\n",
      "\u001b[?25hSuccessfully installed lxml-4.8.0 multitasking-0.0.10 yfinance-0.1.70\n",
      "Requirement already satisfied: pandas in /Users/valeriomellini/source-code/youtube/venv/lib/python3.8/site-packages (1.4.1)\n",
      "Requirement already satisfied: python-dateutil>=2.8.1 in /Users/valeriomellini/source-code/youtube/venv/lib/python3.8/site-packages (from pandas) (2.8.2)\n",
      "Requirement already satisfied: pytz>=2020.1 in /Users/valeriomellini/source-code/youtube/venv/lib/python3.8/site-packages (from pandas) (2022.1)\n",
      "Requirement already satisfied: numpy>=1.18.5 in /Users/valeriomellini/source-code/youtube/venv/lib/python3.8/site-packages (from pandas) (1.22.3)\n",
      "Requirement already satisfied: six>=1.5 in /Users/valeriomellini/source-code/youtube/venv/lib/python3.8/site-packages (from python-dateutil>=2.8.1->pandas) (1.16.0)\n",
      "Requirement already satisfied: numpy in /Users/valeriomellini/source-code/youtube/venv/lib/python3.8/site-packages (1.22.3)\n",
      "Collecting ta\n",
      "  Using cached ta-0.9.0.tar.gz (25 kB)\n",
      "  Preparing metadata (setup.py) ... \u001b[?25ldone\n",
      "\u001b[?25hRequirement already satisfied: numpy in /Users/valeriomellini/source-code/youtube/venv/lib/python3.8/site-packages (from ta) (1.22.3)\n",
      "Requirement already satisfied: pandas in /Users/valeriomellini/source-code/youtube/venv/lib/python3.8/site-packages (from ta) (1.4.1)\n",
      "Requirement already satisfied: pytz>=2020.1 in /Users/valeriomellini/source-code/youtube/venv/lib/python3.8/site-packages (from pandas->ta) (2022.1)\n",
      "Requirement already satisfied: python-dateutil>=2.8.1 in /Users/valeriomellini/source-code/youtube/venv/lib/python3.8/site-packages (from pandas->ta) (2.8.2)\n",
      "Requirement already satisfied: six>=1.5 in /Users/valeriomellini/source-code/youtube/venv/lib/python3.8/site-packages (from python-dateutil>=2.8.1->pandas->ta) (1.16.0)\n",
      "Using legacy 'setup.py install' for ta, since package 'wheel' is not installed.\n",
      "Installing collected packages: ta\n",
      "  Running setup.py install for ta ... \u001b[?25ldone\n",
      "\u001b[?25hSuccessfully installed ta-0.9.0\n",
      "Requirement already satisfied: matplotlib in /Users/valeriomellini/source-code/youtube/venv/lib/python3.8/site-packages (3.5.1)\n",
      "Requirement already satisfied: pyparsing>=2.2.1 in /Users/valeriomellini/source-code/youtube/venv/lib/python3.8/site-packages (from matplotlib) (3.0.7)\n",
      "Requirement already satisfied: cycler>=0.10 in /Users/valeriomellini/source-code/youtube/venv/lib/python3.8/site-packages (from matplotlib) (0.11.0)\n",
      "Requirement already satisfied: fonttools>=4.22.0 in /Users/valeriomellini/source-code/youtube/venv/lib/python3.8/site-packages (from matplotlib) (4.31.2)\n",
      "Requirement already satisfied: kiwisolver>=1.0.1 in /Users/valeriomellini/source-code/youtube/venv/lib/python3.8/site-packages (from matplotlib) (1.4.0)\n",
      "Requirement already satisfied: packaging>=20.0 in /Users/valeriomellini/source-code/youtube/venv/lib/python3.8/site-packages (from matplotlib) (21.3)\n",
      "Requirement already satisfied: python-dateutil>=2.7 in /Users/valeriomellini/source-code/youtube/venv/lib/python3.8/site-packages (from matplotlib) (2.8.2)\n",
      "Requirement already satisfied: numpy>=1.17 in /Users/valeriomellini/source-code/youtube/venv/lib/python3.8/site-packages (from matplotlib) (1.22.3)\n",
      "Requirement already satisfied: pillow>=6.2.0 in /Users/valeriomellini/source-code/youtube/venv/lib/python3.8/site-packages (from matplotlib) (9.0.1)\n",
      "Requirement already satisfied: six>=1.5 in /Users/valeriomellini/source-code/youtube/venv/lib/python3.8/site-packages (from python-dateutil>=2.7->matplotlib) (1.16.0)\n",
      "Collecting seaborn\n",
      "  Using cached seaborn-0.11.2-py3-none-any.whl (292 kB)\n",
      "Requirement already satisfied: scipy>=1.0 in /Users/valeriomellini/source-code/youtube/venv/lib/python3.8/site-packages (from seaborn) (1.8.0)\n",
      "Requirement already satisfied: numpy>=1.15 in /Users/valeriomellini/source-code/youtube/venv/lib/python3.8/site-packages (from seaborn) (1.22.3)\n",
      "Requirement already satisfied: matplotlib>=2.2 in /Users/valeriomellini/source-code/youtube/venv/lib/python3.8/site-packages (from seaborn) (3.5.1)\n",
      "Requirement already satisfied: pandas>=0.23 in /Users/valeriomellini/source-code/youtube/venv/lib/python3.8/site-packages (from seaborn) (1.4.1)\n",
      "Requirement already satisfied: cycler>=0.10 in /Users/valeriomellini/source-code/youtube/venv/lib/python3.8/site-packages (from matplotlib>=2.2->seaborn) (0.11.0)\n",
      "Requirement already satisfied: pyparsing>=2.2.1 in /Users/valeriomellini/source-code/youtube/venv/lib/python3.8/site-packages (from matplotlib>=2.2->seaborn) (3.0.7)\n",
      "Requirement already satisfied: pillow>=6.2.0 in /Users/valeriomellini/source-code/youtube/venv/lib/python3.8/site-packages (from matplotlib>=2.2->seaborn) (9.0.1)\n",
      "Requirement already satisfied: kiwisolver>=1.0.1 in /Users/valeriomellini/source-code/youtube/venv/lib/python3.8/site-packages (from matplotlib>=2.2->seaborn) (1.4.0)\n",
      "Requirement already satisfied: packaging>=20.0 in /Users/valeriomellini/source-code/youtube/venv/lib/python3.8/site-packages (from matplotlib>=2.2->seaborn) (21.3)\n",
      "Requirement already satisfied: python-dateutil>=2.7 in /Users/valeriomellini/source-code/youtube/venv/lib/python3.8/site-packages (from matplotlib>=2.2->seaborn) (2.8.2)\n",
      "Requirement already satisfied: fonttools>=4.22.0 in /Users/valeriomellini/source-code/youtube/venv/lib/python3.8/site-packages (from matplotlib>=2.2->seaborn) (4.31.2)\n",
      "Requirement already satisfied: pytz>=2020.1 in /Users/valeriomellini/source-code/youtube/venv/lib/python3.8/site-packages (from pandas>=0.23->seaborn) (2022.1)\n",
      "Requirement already satisfied: six>=1.5 in /Users/valeriomellini/source-code/youtube/venv/lib/python3.8/site-packages (from python-dateutil>=2.7->matplotlib>=2.2->seaborn) (1.16.0)\n",
      "Installing collected packages: seaborn\n",
      "Successfully installed seaborn-0.11.2\n"
     ]
    }
   ],
   "source": [
    "!pip install mplfinance\n",
    "!pip install trendln --upgrade --no-cache-dir\n",
    "!pip install yfinance\n",
    "!pip install pandas\n",
    "!pip install numpy\n",
    "!pip install ta\n",
    "!pip install matplotlib\n",
    "!pip install seaborn"
   ]
  },
  {
   "cell_type": "markdown",
   "id": "3a13f575",
   "metadata": {},
   "source": [
    "## Import libreries"
   ]
  },
  {
   "cell_type": "code",
   "execution_count": 2,
   "id": "013bd2a7",
   "metadata": {},
   "outputs": [],
   "source": [
    "import pandas as pd\n",
    "import numpy as np\n",
    "import seaborn as sns\n",
    "import yfinance as yf\n",
    "import datetime as dt\n",
    "from ta import add_all_ta_features\n",
    "from ta.utils import dropna\n",
    "from mplfinance.original_flavor import candlestick_ohlc\n",
    "import matplotlib.gridspec as gs\n",
    "import matplotlib.dates as mpl_dates\n",
    "import matplotlib.pyplot as plt\n",
    "import matplotlib.dates as mdates\n",
    "import trendln\n",
    "sns.set()\n",
    "%matplotlib inline"
   ]
  },
  {
   "cell_type": "markdown",
   "id": "e8c386b6",
   "metadata": {},
   "source": [
    "## Setting parameters"
   ]
  },
  {
   "cell_type": "code",
   "execution_count": null,
   "id": "d0fd2063",
   "metadata": {},
   "outputs": [],
   "source": [
    "asset = \"BTC-USD\"\n",
    "# Range used to download datas. Support & resistance are not identified by this range \n",
    "start = dt.date(2018, 10, 1)\n",
    "end = dt.date.today()\n",
    "# Range used to plot the chart\n",
    "start_date_plot = dt.date(2020, 10, 1)\n",
    "end_date_plot = dt.date.today()"
   ]
  },
  {
   "cell_type": "markdown",
   "id": "7f728041",
   "metadata": {},
   "source": [
    "## Technical analysis"
   ]
  },
  {
   "cell_type": "markdown",
   "id": "caaaceac",
   "metadata": {},
   "source": [
    "## Btc perfomance & correlations"
   ]
  },
  {
   "cell_type": "markdown",
   "id": "d543f32b",
   "metadata": {},
   "source": [
    "## Fears & Greed"
   ]
  },
  {
   "cell_type": "markdown",
   "id": "cfde6692",
   "metadata": {},
   "source": [
    "## Analysis on chain "
   ]
  },
  {
   "cell_type": "markdown",
   "id": "68ed9b5f",
   "metadata": {},
   "source": [
    "## BTC news"
   ]
  },
  {
   "cell_type": "code",
   "execution_count": null,
   "id": "c97f2e19",
   "metadata": {},
   "outputs": [],
   "source": []
  }
 ],
 "metadata": {
  "kernelspec": {
   "display_name": "Python 3 (ipykernel)",
   "language": "python",
   "name": "python3"
  },
  "language_info": {
   "codemirror_mode": {
    "name": "ipython",
    "version": 3
   },
   "file_extension": ".py",
   "mimetype": "text/x-python",
   "name": "python",
   "nbconvert_exporter": "python",
   "pygments_lexer": "ipython3",
   "version": "3.8.2"
  }
 },
 "nbformat": 4,
 "nbformat_minor": 5
}
