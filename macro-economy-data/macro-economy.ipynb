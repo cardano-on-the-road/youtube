{
 "cells": [
  {
   "cell_type": "markdown",
   "metadata": {},
   "source": [
    "## Libraries"
   ]
  },
  {
   "cell_type": "code",
   "execution_count": null,
   "metadata": {},
   "outputs": [],
   "source": [
    "%pip install quandl\n",
    "%pip install yfinance\n",
    "%pip install seaborn\n",
    "%pip install pandas\n",
    "%pip install matplotlib"
   ]
  },
  {
   "cell_type": "code",
   "execution_count": null,
   "metadata": {},
   "outputs": [],
   "source": [
    "import quandl\n",
    "import json\n",
    "import pandas as pd\n",
    "import datetime\n",
    "import matplotlib.pyplot as plt\n",
    "import yfinance as yf\n",
    "import seaborn as sb\n",
    "sb.set()\n",
    "from pandas.plotting import scatter_matrix\n",
    "\n",
    "# For interactive charts\n",
    "#%matplotlib notebook\n",
    "# For static charts\n",
    "%matplotlib inline"
   ]
  },
  {
   "cell_type": "markdown",
   "metadata": {},
   "source": [
    "# How to read macro-economy data\n",
    "\n",
    "### Useful links\n",
    "\n",
    "* [Nasdaq alternative data](https://data.nasdaq.com)\n",
    "\n",
    "* [Federal reserve economy data documentation](https://data.nasdaq.com/data/FRED-federal-reserve-economic-data/documentation)\n",
    "\n",
    "    "
   ]
  },
  {
   "cell_type": "markdown",
   "metadata": {},
   "source": [
    "## Parameters configuration"
   ]
  },
  {
   "cell_type": "code",
   "execution_count": null,
   "metadata": {},
   "outputs": [],
   "source": [
    "sdate = \"2006-01-01\"\n",
    "edate = \"2021-12-31\"\n",
    "skey = \"\"\n",
    "with open(\"settings.json\", 'r') as j:\n",
    "    skey=json.load(j)[\"quandl_secret_key\"]"
   ]
  },
  {
   "cell_type": "markdown",
   "metadata": {},
   "source": [
    "# Get Fred data\n",
    "\n",
    "* **PCE** = Personal consumption expenditure (Monthly)\n",
    "* **M1** = Monetary supply (Weekly)\n",
    "* **M1V** = Monetary velocity (Weekly)\n",
    "* **MEHOINUSA672N** = Real Median Household Income in the United States (Annual)\n",
    "* **GDP** = Gross Domestic Product (Quaterly)\n",
    "* **CPIAUCSL** = Consumer Price Index for All Urban Consumers: All Items (Monthly)\n",
    "* **UNRATE** = Civilian Unemployment Rate (Montly)\n"
   ]
  },
  {
   "cell_type": "code",
   "execution_count": null,
   "metadata": {},
   "outputs": [],
   "source": [
    "quandl.ApiConfig.api_key = skey\n",
    "\n",
    "cols = ['FRED/MEHOINUSA672N','FRED/CPIAUCSL','FRED/GDP','FRED/UNRATE','FRED/M1','FRED/PCE', 'FRED/M1V']\n",
    "\n",
    "FRED=quandl.get(cols, start_date=sdate, end_date=edate)\n",
    "FRED.columns = cols\n",
    "\n",
    "SPY = yf.download(\"^GSPC\", start=sdate, end=edate)\n",
    "FRED.to_csv(\"data.csv\")"
   ]
  },
  {
   "cell_type": "markdown",
   "metadata": {},
   "source": [
    "# Plot charts"
   ]
  },
  {
   "cell_type": "code",
   "execution_count": null,
   "metadata": {},
   "outputs": [],
   "source": [
    "fig, axes = plt.subplots(nrows=4, ncols=2, figsize=(15,15))\n",
    "FRED['FRED/GDP'].dropna().plot(ax=axes[0,0], title=\"GDP USA\")\n",
    "FRED['FRED/UNRATE'].dropna().plot(ax=axes[0,1], title=\"Civilian Unemployment Rate\")\n",
    "FRED['FRED/PCE'].dropna().plot(ax=axes[1,0],title=\"Personal consumption expenditure\")\n",
    "FRED['FRED/MEHOINUSA672N'].dropna().plot(ax=axes[1,1],title=\"Real Median Household Income\")\n",
    "FRED['FRED/CPIAUCSL'].dropna().plot(ax=axes[2,0],title=\"Consumer Price Index\")\n",
    "SPY['Close'].dropna().plot(ax=axes[2,1],title=\"S&P500\")\n",
    "FRED['FRED/M1'].dropna().plot(ax=axes[3,0],title=\"Monetary supply M1\")\n",
    "FRED['FRED/M1V'].dropna().plot(ax=axes[3,1],title=\"Monetary velocty\")\n",
    "\n",
    "fig.tight_layout()\n"
   ]
  },
  {
   "cell_type": "markdown",
   "metadata": {},
   "source": [
    "# Resample\n",
    "\n",
    "Resampling dataframes with one month of granularity and merge them"
   ]
  },
  {
   "cell_type": "code",
   "execution_count": null,
   "metadata": {},
   "outputs": [],
   "source": [
    "SPYM = SPY['Close']\n",
    "SPYM=SPYM.resample('MS').mean()\n",
    "FREDM = FRED.resample('MS').mean()\n",
    "FREDM.fillna(inplace=True, method=\"ffill\", axis=0)\n",
    "DATA = pd.concat([FREDM, SPYM], axis=1, join=\"inner\")\n",
    "DATA.columns = cols + [\"S&P500\"]\n",
    "print(DATA.tail(1))"
   ]
  },
  {
   "cell_type": "code",
   "execution_count": null,
   "metadata": {},
   "outputs": [],
   "source": [
    "DATA.corr()[\"S&P500\"]"
   ]
  },
  {
   "cell_type": "code",
   "execution_count": null,
   "metadata": {},
   "outputs": [],
   "source": [
    "pd.plotting.scatter_matrix(DATA[['S&P500', 'FRED/UNRATE', 'FRED/PCE']], figsize=(15,15))"
   ]
  },
  {
   "cell_type": "code",
   "execution_count": null,
   "metadata": {},
   "outputs": [],
   "source": [
    "DATA[['FRED/UNRATE']].plot.kde(figsize=(13,7))\n",
    "plt.axvline(DATA[['FRED/UNRATE']].iloc[-1]['FRED/UNRATE'], color='r', linestyle='--', label=\"UNRATE Current value {0:.2f}\".format(DATA[['FRED/UNRATE']].iloc[-1]['FRED/UNRATE']))\n",
    "plt.axvline(DATA[['FRED/UNRATE']].mean()['FRED/UNRATE'], color='g', linestyle='--', label=\"UNRATE mean value {0:.2f}\".format(DATA[['FRED/UNRATE']].mean()['FRED/UNRATE']))\n",
    "plt.legend()"
   ]
  },
  {
   "cell_type": "markdown",
   "metadata": {},
   "source": [
    "# Another definition of PCE\n",
    "\n",
    "The \"core\" PCE price index is defined as personal consumption expenditures (PCE) prices excluding food and energy prices. The core PCE price index measures the prices paid by consumers for goods and services without the volatility caused by movements in food and energy prices to reveal underlying inflation trends\n"
   ]
  },
  {
   "cell_type": "code",
   "execution_count": null,
   "metadata": {},
   "outputs": [],
   "source": [
    "pce_smallest_gradient=DATA[['FRED/PCE']].diff().nsmallest(3, 'FRED/PCE', keep='first')\n",
    "pce_largest_gradient=DATA[['FRED/PCE']].diff().nlargest(3, 'FRED/PCE', keep='first')\n",
    "unrate_smallest_gradient=DATA[['FRED/UNRATE']].nsmallest(3, 'FRED/UNRATE', keep='first')\n",
    "unrate_largest_gradient=DATA[['FRED/UNRATE']].nlargest(3, 'FRED/UNRATE', keep='first')\n",
    "\n",
    "SPY[['Close']].plot(figsize=(20,10))\n",
    "plt.axvline(pce_smallest_gradient.index[0], color='r', linestyle='--', label=\"Worst drop PCE\")\n",
    "plt.axvline(pce_largest_gradient.index[0], color='g', linestyle='--', label=\"Raise PCE\")\n",
    "plt.axvline(unrate_smallest_gradient.index[0], color='black', linestyle='dotted', label=\"Worst drop occupation\")\n",
    "plt.axvline(unrate_largest_gradient.index[0], color='orange', linestyle='dotted', label=\"Raise occupation\")\n",
    "plt.legend()\n",
    "\n",
    "print('\\nTop 3 positive PCE Gradiend')\n",
    "print(pce_largest_gradient)\n",
    "print('\\n\\nTop 3 negative PCE Gradiend')\n",
    "print(pce_smallest_gradient)\n",
    "print('\\n\\nTop 3 best UNRATE')\n",
    "print(unrate_largest_gradient)\n",
    "print('\\n\\nTop 3 worst UNRATE')\n",
    "print(unrate_smallest_gradient)\n",
    "\n",
    "\n"
   ]
  },
  {
   "cell_type": "markdown",
   "metadata": {},
   "source": [
    "# Saving data to file"
   ]
  },
  {
   "cell_type": "code",
   "execution_count": null,
   "metadata": {},
   "outputs": [],
   "source": [
    "DATA.to_csv(\"macro_data{0}.{1}.csv\".format(sdate, edate))"
   ]
  }
 ],
 "metadata": {
  "kernelspec": {
   "display_name": "Python 3 (ipykernel)",
   "language": "python",
   "name": "python3"
  },
  "language_info": {
   "codemirror_mode": {
    "name": "ipython",
    "version": 3
   },
   "file_extension": ".py",
   "mimetype": "text/x-python",
   "name": "python",
   "nbconvert_exporter": "python",
   "pygments_lexer": "ipython3",
   "version": "3.8.2"
  }
 },
 "nbformat": 4,
 "nbformat_minor": 2
}
