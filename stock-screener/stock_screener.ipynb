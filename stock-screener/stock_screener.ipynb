{
 "cells": [
  {
   "cell_type": "code",
   "execution_count": null,
   "id": "09818ee8",
   "metadata": {},
   "outputs": [],
   "source": [
    "%pip install yfinance\n",
    "%pip install pandas\n",
    "%pip install numpy\n",
    "%pip install ta"
   ]
  },
  {
   "cell_type": "markdown",
   "id": "927c7187",
   "metadata": {},
   "source": [
    "# Stock screener"
   ]
  },
  {
   "cell_type": "code",
   "execution_count": null,
   "id": "d4f46c36",
   "metadata": {},
   "outputs": [],
   "source": [
    "import pandas as pd\n",
    "from stocks_report import stocks_report\n",
    "import warnings\n",
    "import datetime\n",
    "warnings.filterwarnings('ignore')"
   ]
  },
  {
   "cell_type": "markdown",
   "id": "706c315a",
   "metadata": {},
   "source": [
    "## Estrazione elenco di azioni ed eleborazione report di analisi tecnica"
   ]
  },
  {
   "cell_type": "code",
   "execution_count": null,
   "id": "613b21bf",
   "metadata": {
    "scrolled": true
   },
   "outputs": [],
   "source": [
    "s = stocks_report('./short_stocks_list.csv')\n",
    "report = s.start_job()"
   ]
  },
  {
   "cell_type": "markdown",
   "id": "7d86ec45",
   "metadata": {},
   "source": [
    "## Stampa degli indicatori di disponibili"
   ]
  },
  {
   "cell_type": "code",
   "execution_count": null,
   "id": "e1288cf2",
   "metadata": {},
   "outputs": [],
   "source": [
    "for indicator in report.columns:\n",
    "    print(indicator)"
   ]
  },
  {
   "cell_type": "markdown",
   "id": "7b9c000c",
   "metadata": {},
   "source": [
    "## Filtro sul report"
   ]
  },
  {
   "cell_type": "code",
   "execution_count": null,
   "id": "32205c2e",
   "metadata": {
    "scrolled": true
   },
   "outputs": [],
   "source": [
    "filt = report[(report.trend_adx < 15) & (report.Ma21 > report.Ma50) & (report.Ma50 > report.Ma200) & (report.momentum_rsi < 60)]\n",
    "filt"
   ]
  },
  {
   "cell_type": "code",
   "execution_count": null,
   "id": "545b4549",
   "metadata": {},
   "outputs": [],
   "source": [
    "filt_found = s.add_fundamental_data(filt)"
   ]
  },
  {
   "cell_type": "code",
   "execution_count": null,
   "id": "08e081bd",
   "metadata": {},
   "outputs": [],
   "source": [
    "filt_found = filt_found[[\"Date\", \"Ma21\", \"Ma50\", \"Ma200\", \"PercVolatility\",\"momentum_rsi\", \"trend_adx\", \"trailingPE\",\"marketCap\", \"trailingEps\", \"bookValue\", \"priceToBook\", \"pegRatio\", \"sector\", \"industry\"]]\n",
    "filt_found"
   ]
  },
  {
   "cell_type": "markdown",
   "id": "fd277ff9",
   "metadata": {},
   "source": [
    "## Esportazione report"
   ]
  },
  {
   "cell_type": "code",
   "execution_count": null,
   "id": "c967256f",
   "metadata": {},
   "outputs": [],
   "source": [
    "filt_found.to_csv('{0}-report.csv'.format(datetime.date.today()))"
   ]
  }
 ],
 "metadata": {
  "kernelspec": {
   "display_name": "Python 3 (ipykernel)",
   "language": "python",
   "name": "python3"
  },
  "language_info": {
   "codemirror_mode": {
    "name": "ipython",
    "version": 3
   },
   "file_extension": ".py",
   "mimetype": "text/x-python",
   "name": "python",
   "nbconvert_exporter": "python",
   "pygments_lexer": "ipython3",
   "version": "3.8.2"
  }
 },
 "nbformat": 4,
 "nbformat_minor": 5
}
