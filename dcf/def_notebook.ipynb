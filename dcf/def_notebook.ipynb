{
 "cells": [
  {
   "cell_type": "code",
   "execution_count": null,
   "id": "da12fdca",
   "metadata": {},
   "outputs": [],
   "source": [
    "%pip install sklearn.linear_model\n",
    "%pip install pandas\n",
    "%pip install numpy\n",
    "%pip install request"
   ]
  },
  {
   "cell_type": "markdown",
   "id": "07a71ebf",
   "metadata": {},
   "source": [
    "import yfinance as yf\n",
    "import pandas as pd\n",
    "import datetime "
   ]
  },
  {
   "cell_type": "markdown",
   "id": "687e094b",
   "metadata": {},
   "source": [
    "# Financialmodelingprep\n",
    "\n",
    "Register here to get the APIKEY [financialmodelingprep](https://site.financialmodelingprep.com/register)\n",
    "Insert the APIKEY into the settings file"
   ]
  },
  {
   "cell_type": "code",
   "execution_count": null,
   "id": "0f839d6b",
   "metadata": {},
   "outputs": [],
   "source": []
  },
  {
   "cell_type": "code",
   "execution_count": null,
   "id": "10a8de15",
   "metadata": {},
   "outputs": [],
   "source": [
    "company = 'MSFT'\n",
    "skey = ''\n",
    "with open(\"settings.json\", 'r') as j:\n",
    "    skey=json.load(j)[\"fml_secretkey\"]\n"
   ]
  },
  {
   "cell_type": "markdown",
   "id": "0048839f",
   "metadata": {},
   "source": [
    "# The weighted average cost of capital (WACC)\n",
    "\n",
    "The weighted average cost of capital is a common way to determine required rate of return because it expresses, in a single number, the return that both bondholders and shareholders demand in order to provide the company with capital. A firm’s WACC is likely to be higher if its stock is relatively volatile or if its debt is seen as risky because investors will demand greater returns. \n",
    "\n",
    "The weighted average cost of capital is a common way to determine required rate of return because it expresses, in a single number, the return that both bondholders and shareholders demand in order to provide the company with capital. A firm’s WACC is likely to be higher if its stock is relatively volatile or if its debt is seen as risky because investors will demand greater returns. [Investopedia](https://www.investopedia.com/terms/w/wacc.asp)\n",
    "\n",
    "$$WACC = (kd*(1-ETR)*\\frac{debt}{(equity+debt)}) + (ke*\\frac{equity}{equity+debt})$$\n",
    "\n",
    "* **kd** = cost of debt\n",
    "* **ke** = cost of equity\n",
    "* **etr** = effective tax rate\n",
    "* **debt** = debt market value\n",
    "* **equity** = equity market value\n",
    "\n",
    "[What is WACC - Youtube](https://www.youtube.com/watch?v=0inqw9cCJnM)\n"
   ]
  },
  {
   "cell_type": "code",
   "execution_count": null,
   "id": "d76e02ad",
   "metadata": {},
   "outputs": [],
   "source": [
    "wacc = Wacc(skey) \n",
    "\n",
    "RF_and_IntCov = wacc.interest_coveraga_and_RF(company)\n",
    "RF = RF_and_IntCov[0]\n",
    "interest_coverage_ratio = RF_and_IntCov[1]\n",
    "\n",
    "ke = wacc.costofequity(company)\n",
    "kd = wacc.cost_of_debt(company,RF,interest_coverage_ratio)\n",
    "\n",
    "wacc_company = wacc.calc_wacc(company)\n",
    "\n",
    "print('wacc of ' + company + ' is ' + str((wacc_company*100))+'%')"
   ]
  },
  {
   "cell_type": "markdown",
   "id": "63b7caf3",
   "metadata": {},
   "source": [
    "# Discounted Cash Flow (DFC)\n",
    "\n",
    "Discounted cash flow (DCF) is a valuation method used to estimate the value of an investment based on its expected future cash flows. DCF analysis attempts to figure out the value of an investment today, based on projections of how much money it will generate in the future. This applies to the decisions of investors in companies or securities, such as acquiring a company or buying a stock, and for business owners and managers looking to make capital budgeting or operating expenditures decisions.\n",
    "\n",
    "$$DCF = \\sum_n\\frac{CF}{(1-wacc)^n} $$\n",
    "\n",
    "* **CF** = cash flow during the period n\n",
    "* **wacc*** = Weighted Average Cost of Capital\n",
    "* **n** = period n"
   ]
  },
  {
   "cell_type": "markdown",
   "id": "f15cba71",
   "metadata": {},
   "source": [
    "# Usefull concept \n",
    "\n",
    "### Cost of debt\n",
    "he cost of debt is the effective interest rate that a company pays on its debts, such as bonds and loans. The cost of debt can refer to the before-tax cost of debt, which is the company’s cost of debt before taking taxes into account, or the after-tax cost of debt. The key difference in the cost of debt before and after taxes lies in the fact that interest expenses are tax-deductible.\n",
    "\n",
    "### Cost of equity\n",
    "The cost of equity is the return that a company requires to decide if an investment meets capital return requirements. Firms often use it as a capital budgeting threshold for the required rate of return. A firm’s cost of equity represents the compensation that the market demands in exchange for owning the asset and bearing the risk of ownership. The traditional formula for the cost of equity is the dividend capitalization model and the capital asset pricing model (CAPM).\n",
    "\n",
    "### Risk free\n",
    "The risk-free rate of return is the theoretical rate of return of an investment with zero risk. The risk-free rate represents the interest an investor would expect from an absolutely risk-free investment over a specified period of time.\n",
    "The so-called \"real\" risk-free rate can be calculated by subtracting the current inflation rate from the yield of the Treasury bond matching your investment duration.\n",
    "\n",
    "thanks to [Investopedia](https://www.investopedia.com)"
   ]
  },
  {
   "cell_type": "code",
   "execution_count": null,
   "id": "1c71c9fd",
   "metadata": {},
   "outputs": [],
   "source": []
  }
 ],
 "metadata": {
  "kernelspec": {
   "display_name": "Python 3 (ipykernel)",
   "language": "python",
   "name": "python3"
  },
  "language_info": {
   "codemirror_mode": {
    "name": "ipython",
    "version": 3
   },
   "file_extension": ".py",
   "mimetype": "text/x-python",
   "name": "python",
   "nbconvert_exporter": "python",
   "pygments_lexer": "ipython3",
   "version": "3.8.2"
  }
 },
 "nbformat": 4,
 "nbformat_minor": 5
}
