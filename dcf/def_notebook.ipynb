{
 "cells": [
  {
   "cell_type": "code",
   "execution_count": null,
   "id": "a62197fa",
   "metadata": {},
   "outputs": [],
   "source": [
    "%pip install sklearn\n",
    "%pip install pandas\n",
    "%pip install numpy\n",
    "%pip install requests\n",
    "%pip install yfinance"
   ]
  },
  {
   "cell_type": "code",
   "execution_count": null,
   "id": "bea912f9",
   "metadata": {},
   "outputs": [],
   "source": [
    "import yfinance as yf\n",
    "import pandas as pd\n",
    "import datetime \n",
    "import json\n",
    "from wacc import Wacc\n",
    "from dcf import getFreeCashFlow, dcf_calc,linear_regression_prediction, linear_regression_model, extract_fcf"
   ]
  },
  {
   "cell_type": "markdown",
   "id": "8f4b5564",
   "metadata": {},
   "source": [
    "# Present value formula\n",
    "\n",
    "$$PV=FV\\frac{1}{(1+r)^n}$$\n",
    "\n",
    "\n",
    "* **PV** =\tpresent value\n",
    "* **FV** =\tfuture value\n",
    "* **r**\t =\trate of return\n",
    "* **n**\t =\tnumber of periods\n",
    "\n",
    "The formula answer to this questions:\n",
    "1. **What do I need to invest today to have a specific sum of money at a future date?**\n",
    "2. **Is this investment-worthy enough?**"
   ]
  },
  {
   "cell_type": "code",
   "execution_count": null,
   "id": "ce672e92",
   "metadata": {},
   "outputs": [],
   "source": [
    "# Present value example\n",
    "#Variable\n",
    "capital_future= 10000\n",
    "years = 5\n",
    "capital_now = 7000\n",
    "interest_rate1 = 0.06\n",
    "interest_rate2 = 0.15\n",
    "\n",
    "print(f'THE PROBLEM: Someone wants propose you to invest {capital_now} to get {capital_future} in {years} years. How to take the decision?!')\n",
    "\n",
    "print(\"\\n-*-*-\\n\")\n",
    "\n",
    "PV1 = capital_5yr / pow(1+interest_rate1, years)\n",
    "PV2 = capital_5yr / pow(1+interest_rate2, years)\n",
    "\n",
    "print(f'You need {PV1} to gain {capital_future} in {years} years with a {interest_rate1*100}% interest rate' )\n",
    "if capital_now < PV1:\n",
    "    print(f' > {capital_now} is less than {PV1}. With {interest_rate1*100}% interest rate is MORE convenient accept {capital_future} in {years} years')\n",
    "else:\n",
    "    print(f' > {capital_now} is more than {PV1}. With {interest_rate1*100}% interest rate is NOT convenient accept {capital_future} in {years} years')\n",
    "print(\"\\n-*-*-\\n\")\n",
    "print(f'You need {PV2} to gain {capital_future} in {years} years with a {interest_rate2*100}% interest rate' )\n",
    "if capital_now < PV2:\n",
    "    print(f' > {capital_now} is less than {PV2}. With {interest_rate2*100}% interest rate is MORE convenient accept {capital_future} in {years} years')\n",
    "else:\n",
    "    print(f' > {capital_now} is more than {PV2}. With {interest_rate2*100}% interest rate is NOT convenient accept {capital_future} in {years} years')"
   ]
  },
  {
   "cell_type": "markdown",
   "id": "96655f5e",
   "metadata": {},
   "source": [
    "# Financialmodelingprep\n",
    "\n",
    "Register here to get the APIKEY [financialmodelingprep](https://site.financialmodelingprep.com/register)\n",
    "Insert the APIKEY into the settings file"
   ]
  },
  {
   "cell_type": "markdown",
   "id": "5386bf16",
   "metadata": {},
   "source": [
    "# Variable initialiazation"
   ]
  },
  {
   "cell_type": "code",
   "execution_count": null,
   "id": "5f9e91eb",
   "metadata": {},
   "outputs": [],
   "source": [
    "company = 'BABA'\n",
    "skey = ''\n",
    "\n",
    "with open(\"settings.json\", 'r') as j:\n",
    "    skey=json.load(j)[\"fml_secretkey\"]\n",
    "\n",
    "fcf = getFreeCashFlow(company, skey)\n",
    "stock= yf.Ticker(company)\n",
    "stock_info = stock.info\n",
    "previous_close = stock_info[\"regularMarketPreviousClose\"]\n",
    "sharesOutstanding = stock_info[\"sharesOutstanding\"]"
   ]
  },
  {
   "cell_type": "markdown",
   "id": "678de0af",
   "metadata": {},
   "source": [
    "# The weighted average cost of capital (WACC)\n",
    "\n",
    "The weighted average cost of capital is a common way to determine required rate of return because it expresses, in a single number, the return that both bondholders and shareholders demand in order to provide the company with capital. A firm’s WACC is likely to be higher if its stock is relatively volatile or if its debt is seen as risky because investors will demand greater returns. \n",
    "\n",
    "The weighted average cost of capital is a common way to determine required rate of return because it expresses, in a single number, the return that both bondholders and shareholders demand in order to provide the company with capital. A firm’s WACC is likely to be higher if its stock is relatively volatile or if its debt is seen as risky because investors will demand greater returns. [Investopedia](https://www.investopedia.com/terms/w/wacc.asp)\n",
    "\n",
    "$$WACC = (kd*(1-ETR)*\\frac{debt}{(equity+debt)}) + (ke*\\frac{equity}{equity+debt})$$\n",
    "\n",
    "* **kd** = cost of debt\n",
    "* **ke** = cost of equity\n",
    "* **etr** = effective tax rate\n",
    "* **debt** = debt market value\n",
    "* **equity** = equity market value\n",
    "\n",
    "[What is WACC - Youtube](https://www.youtube.com/watch?v=0inqw9cCJnM)\n"
   ]
  },
  {
   "cell_type": "code",
   "execution_count": null,
   "id": "716fcfd2",
   "metadata": {},
   "outputs": [],
   "source": [
    "wacc = Wacc(skey) \n",
    "wacc_company = wacc.calc_wacc(company)\n",
    "\n",
    "print('wacc of ' + company + ' is ' + str((wacc_company*100))+'%')"
   ]
  },
  {
   "cell_type": "markdown",
   "id": "3a8c0a1e",
   "metadata": {},
   "source": [
    "# Discounted Cash Flow (DFC)\n",
    "\n",
    "Discounted cash flow (DCF) is a valuation method used to estimate the value of an investment based on its expected future cash flows. DCF analysis attempts to figure out the value of an investment today, based on projections of how much money it will generate in the future. This applies to the decisions of investors in companies or securities, such as acquiring a company or buying a stock, and for business owners and managers looking to make capital budgeting or operating expenditures decisions.\n",
    "\n",
    "$$DCF = \\sum_n\\frac{CF}{(1+wacc)^n} $$\n",
    "\n",
    "* **CF** = cash flow during the period n\n",
    "* **wacc** = Weighted Average Cost of Capital\n",
    "* **n** = period n"
   ]
  },
  {
   "cell_type": "code",
   "execution_count": null,
   "id": "91df7046",
   "metadata": {},
   "outputs": [],
   "source": [
    "model = linear_regression_model(fcf)\n",
    "fcf_pred = linear_regression_prediction(model, 0, 5)\n",
    "dcf = dcf_calc(fcf_pred, wacc_company, len(fcf_pred), multiplier=1)\n",
    "\n",
    "fair_price = dcf / sharesOutstanding\n",
    "\n",
    "print(f'The fair price calculated is {fair_price}. Current price is {previous_close}')"
   ]
  },
  {
   "cell_type": "markdown",
   "id": "9a888a7e",
   "metadata": {},
   "source": [
    "# Usefull concept \n",
    "\n",
    "### Cost of debt\n",
    "he cost of debt is the effective interest rate that a company pays on its debts, such as bonds and loans. The cost of debt can refer to the before-tax cost of debt, which is the company’s cost of debt before taking taxes into account, or the after-tax cost of debt. The key difference in the cost of debt before and after taxes lies in the fact that interest expenses are tax-deductible.\n",
    "\n",
    "### Cost of equity\n",
    "The cost of equity is the return that a company requires to decide if an investment meets capital return requirements. Firms often use it as a capital budgeting threshold for the required rate of return. A firm’s cost of equity represents the compensation that the market demands in exchange for owning the asset and bearing the risk of ownership. The traditional formula for the cost of equity is the dividend capitalization model and the capital asset pricing model (CAPM).\n",
    "\n",
    "### Risk free\n",
    "The risk-free rate of return is the theoretical rate of return of an investment with zero risk. The risk-free rate represents the interest an investor would expect from an absolutely risk-free investment over a specified period of time.\n",
    "The so-called \"real\" risk-free rate can be calculated by subtracting the current inflation rate from the yield of the Treasury bond matching your investment duration.\n",
    "\n",
    "thanks to [Investopedia](https://www.investopedia.com)"
   ]
  }
 ],
 "metadata": {
  "kernelspec": {
   "display_name": "Python 3 (ipykernel)",
   "language": "python",
   "name": "python3"
  },
  "language_info": {
   "codemirror_mode": {
    "name": "ipython",
    "version": 3
   },
   "file_extension": ".py",
   "mimetype": "text/x-python",
   "name": "python",
   "nbconvert_exporter": "python",
   "pygments_lexer": "ipython3",
   "version": "3.8.2"
  }
 },
 "nbformat": 4,
 "nbformat_minor": 5
}
