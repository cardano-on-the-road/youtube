{
 "cells": [
  {
   "cell_type": "markdown",
   "metadata": {},
   "source": [
    "# 1. Librerie\n",
    "\n",
    "Per installare e importare le librerie richieste"
   ]
  },
  {
   "cell_type": "code",
   "execution_count": null,
   "metadata": {},
   "outputs": [],
   "source": [
    "!pip install pandas\n",
    "!pip install matplotlib\n",
    "!pip install seaborn\n",
    "!pip install yfinance"
   ]
  },
  {
   "cell_type": "code",
   "execution_count": null,
   "metadata": {},
   "outputs": [],
   "source": [
    "import pandas as pd\n",
    "import datetime\n",
    "import matplotlib.pyplot as plt\n",
    "import yfinance as yf\n",
    "import seaborn as sb\n",
    "sb.set()\n",
    "from pandas.plotting import scatter_matrix\n",
    "%matplotlib inline"
   ]
  },
  {
   "cell_type": "markdown",
   "metadata": {},
   "source": [
    "# 2. Download data\n",
    "\n",
    "Selezione ticker, range delle date ed eventuali valute"
   ]
  },
  {
   "cell_type": "code",
   "execution_count": null,
   "metadata": {},
   "outputs": [],
   "source": [
    "start = datetime.date(2015, 1, 1)\n",
    "end = datetime.date.today()\n",
    "\n",
    "stocks = 'BABA GOLD CYBR BTC-USD ETH-USD ADA-USD ^GSPC'\n",
    "data = yf.download(stocks, start=start, end=end)\n",
    "stocks_list = stocks.split(' ')\n",
    "data.tail()"
   ]
  },
  {
   "cell_type": "markdown",
   "metadata": {},
   "source": [
    "# 3. Preparazione dati\n"
   ]
  },
  {
   "cell_type": "code",
   "execution_count": null,
   "metadata": {},
   "outputs": [],
   "source": [
    "close = data['Close']\n",
    "close.columns = stocks_list\n",
    "close = close.dropna()\n",
    "close.corr()"
   ]
  },
  {
   "cell_type": "markdown",
   "metadata": {},
   "source": [
    "# 4. Scatter matrix di tutti gli indici\n",
    "\n",
    "Per visualizzare graficamente la correlazione"
   ]
  },
  {
   "cell_type": "code",
   "execution_count": null,
   "metadata": {},
   "outputs": [],
   "source": [
    "scatter_matrix(close, alpha=0.4, figsize=(25, 25), color='r',hist_kwds={'bins':50})"
   ]
  },
  {
   "cell_type": "markdown",
   "metadata": {},
   "source": [
    "# 5. Analisi della correlazione\n",
    "\n",
    "\"...Una correlazione è una relazione tra due variabili tale che a ciascun valore della prima corrisponda un valore della seconda, seguendo una certa regolarità...\" Fonte [Wikipedia](https://it.wikipedia.org/wiki/Correlazione_(statistica)#:~:text=In%20statistica%2C%20una%20correlazione%20%C3%A8,seconda%2C%20seguendo%20una%20certa%20regolarit%C3%A0.)\n",
    "\n",
    "Il valori di correlazioni che verranno mostrati oscillano tra i valori **(-1 +1)**\n",
    "\n",
    "* **+1** indica che i prezzi hanno lo stesso andamento, quando sale uno sale anche l'altro, quando scende uno scende anche l'altro\n",
    "* **0** indica che i prezzi oscillanno in modo indipendente tra loro\n",
    "* **-1** indica che i prezzi assumono andamenti diametralmente opposti, quando uno sale l'altro scende e viceversa\n",
    "\n",
    "Per interpretare meglio i coefficienti di correlazione consiglio la lettura di questo [Articolo](https://statisticsbyjim.com/basics/correlations/)"
   ]
  },
  {
   "cell_type": "markdown",
   "metadata": {},
   "source": [
    "### 5.1 Perché la correlazione e la diversificazione sono importanti\n",
    "\n",
    "Le performance di un portafoglio di investimento sono direttamente proporzionali alla diversificazione degli asset in paniere.\n",
    "\n",
    "Gli asset in portafoglio sono tanto più scorrelati quanto più il loro coefficiente di correlazione tende a zero.\n",
    "\n",
    "Il seguente grafico rappresenta come crescono le performance di un portafoglio all'aumentare del numero di asset e all'aumentare del loro grado di scorrelazione.\n",
    "\n",
    "![](./img/Diversification-Power.png)\n",
    "\n",
    "[Fonte del grafico](https://www.hvst.com/posts/the-single-most-important-chart-for-any-portfolio-manager-or-investor-the-power-diversification-low-correlation-o9NT7n0r)\n"
   ]
  },
  {
   "cell_type": "markdown",
   "metadata": {},
   "source": [
    "### 5.2 Evoluzione della correlazione anno per anno dal 2015 a Oggi"
   ]
  },
  {
   "cell_type": "code",
   "execution_count": null,
   "metadata": {},
   "outputs": [],
   "source": [
    "corr_2015 = close['2015-01-01': '2015-12-31'].corr().loc['BTC-USD']\n",
    "corr_2016 = close['2016-01-01': '2016-12-31'].corr().loc['BTC-USD']\n",
    "corr_2017 = close['2017-01-01': '2017-12-31'].corr().loc['BTC-USD']\n",
    "corr_2018 = close['2018-01-01': '2018-12-31'].corr().loc['BTC-USD']\n",
    "corr_2019 = close['2019-01-01': '2019-12-31'].corr().loc['BTC-USD']\n",
    "corr_2020 = close['2020-01-01': datetime.date.today()].corr().loc['BTC-USD']\n",
    "\n",
    "df_corr = pd.DataFrame([corr_2015, corr_2016, corr_2017, corr_2018, corr_2019, corr_2020], index=[2015, 2016, 2017, 2018, 2019, 2020])\n",
    "df_corr.plot(figsize=(10,5), title=\"Correlazione di BTC rispetto agli altri asset\")"
   ]
  },
  {
   "cell_type": "markdown",
   "metadata": {},
   "source": [
    "### 5.3 Evoluzione della correlazione nell'ultimo anno"
   ]
  },
  {
   "cell_type": "code",
   "execution_count": null,
   "metadata": {},
   "outputs": [],
   "source": [
    "# Blocco utilizzato per calcolare gli offsets necessari nei blocchi successivi\n",
    "\n",
    "today = datetime.date.today()\n",
    "year_offset = datetime.timedelta(days=365)\n",
    "six_months_offset = datetime.timedelta(days=180)\n",
    "three_months_offset = datetime.timedelta(days=90)\n",
    "one_month_offset = datetime.timedelta(days=31)\n",
    "\n",
    "year = today - year_offset\n",
    "six_months = today - six_months_offset\n",
    "three_months = today - three_months_offset\n",
    "one_month = today - one_month_offset\n",
    "\n",
    "last_year_corr = close[year: today].corr().loc['BTC-USD']\n",
    "last_six_months_corr = close[six_months: today].corr().loc['BTC-USD']\n",
    "last_three_months_corr = close[three_months: today].corr().loc['BTC-USD']\n",
    "last_month_corr = close[one_month: today].corr().loc['BTC-USD']\n",
    "since_2015_corr = close['2015-01-01': today].corr().loc['BTC-USD']\n",
    "\n",
    "df_corr = pd.DataFrame([since_2015_corr, last_year_corr, last_six_months_corr, last_three_months_corr, last_month_corr], \n",
    "                       index=['Dal 2015', 'Ultimo anno', 'Ultimi sei mesi', 'Ultimi tre mesi', 'Ultimo mese'])\n",
    "\n",
    "df_corr.plot(figsize=(10, 5))"
   ]
  },
  {
   "cell_type": "code",
   "execution_count": null,
   "metadata": {},
   "outputs": [],
   "source": []
  }
 ],
 "metadata": {
  "kernelspec": {
   "display_name": "Python 3 (ipykernel)",
   "language": "python",
   "name": "python3"
  },
  "language_info": {
   "codemirror_mode": {
    "name": "ipython",
    "version": 3
   },
   "file_extension": ".py",
   "mimetype": "text/x-python",
   "name": "python",
   "nbconvert_exporter": "python",
   "pygments_lexer": "ipython3",
   "version": "3.8.2"
  }
 },
 "nbformat": 4,
 "nbformat_minor": 2
}
